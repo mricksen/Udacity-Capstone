{
 "cells": [
  {
   "cell_type": "markdown",
   "metadata": {},
   "source": [
    "# Starbucks Capstone Challenge\n",
    "\n",
    "### Introduction\n",
    "\n",
    "This data set contains simulated data that mimics customer behavior on the Starbucks rewards mobile app. Once every few days, Starbucks sends out an offer to users of the mobile app. An offer can be merely an advertisement for a drink or an actual offer such as a discount or BOGO (buy one get one free). Some users might not receive any offer during certain weeks. \n",
    "\n",
    "Not all users receive the same offer, and that is the challenge to solve with this data set.\n",
    "\n",
    "Your task is to combine transaction, demographic and offer data to determine which demographic groups respond best to which offer type. This data set is a simplified version of the real Starbucks app because the underlying simulator only has one product whereas Starbucks actually sells dozens of products.\n",
    "\n",
    "Every offer has a validity period before the offer expires. As an example, a BOGO offer might be valid for only 5 days. You'll see in the data set that informational offers have a validity period even though these ads are merely providing information about a product; for example, if an informational offer has 7 days of validity, you can assume the customer is feeling the influence of the offer for 7 days after receiving the advertisement.\n",
    "\n",
    "You'll be given transactional data showing user purchases made on the app including the timestamp of purchase and the amount of money spent on a purchase. This transactional data also has a record for each offer that a user receives as well as a record for when a user actually views the offer. There are also records for when a user completes an offer. \n",
    "\n",
    "Keep in mind as well that someone using the app might make a purchase through the app without having received an offer or seen an offer.\n",
    "\n",
    "### Example\n",
    "\n",
    "To give an example, a user could receive a discount offer buy 10 dollars get 2 off on Monday. The offer is valid for 10 days from receipt. If the customer accumulates at least 10 dollars in purchases during the validity period, the customer completes the offer.\n",
    "\n",
    "However, there are a few things to watch out for in this data set. Customers do not opt into the offers that they receive; in other words, a user can receive an offer, never actually view the offer, and still complete the offer. For example, a user might receive the \"buy 10 dollars get 2 dollars off offer\", but the user never opens the offer during the 10 day validity period. The customer spends 15 dollars during those ten days. There will be an offer completion record in the data set; however, the customer was not influenced by the offer because the customer never viewed the offer.\n",
    "\n",
    "### Cleaning\n",
    "\n",
    "This makes data cleaning especially important and tricky.\n",
    "\n",
    "You'll also want to take into account that some demographic groups will make purchases even if they don't receive an offer. From a business perspective, if a customer is going to make a 10 dollar purchase without an offer anyway, you wouldn't want to send a buy 10 dollars get 2 dollars off offer. You'll want to try to assess what a certain demographic group will buy when not receiving any offers.\n",
    "\n",
    "### Final Advice\n",
    "\n",
    "Because this is a capstone project, you are free to analyze the data any way you see fit. For example, you could build a machine learning model that predicts how much someone will spend based on demographics and offer type. Or you could build a model that predicts whether or not someone will respond to an offer. Or, you don't need to build a machine learning model at all. You could develop a set of heuristics that determine what offer you should send to each customer (i.e., 75 percent of women customers who were 35 years old responded to offer A vs 40 percent from the same demographic to offer B, so send offer A)."
   ]
  },
  {
   "cell_type": "markdown",
   "metadata": {},
   "source": [
    "# Data Sets\n",
    "\n",
    "The data is contained in three files:\n",
    "\n",
    "* portfolio.json - containing offer ids and meta data about each offer (duration, type, etc.)\n",
    "* profile.json - demographic data for each customer\n",
    "* transcript.json - records for transactions, offers received, offers viewed, and offers completed\n",
    "\n",
    "Here is the schema and explanation of each variable in the files:\n",
    "\n",
    "**portfolio.json**\n",
    "* id (string) - offer id\n",
    "* offer_type (string) - type of offer ie BOGO, discount, informational\n",
    "* difficulty (int) - minimum required spend to complete an offer\n",
    "* reward (int) - reward given for completing an offer\n",
    "* duration (int) - time for offer to be open, in days\n",
    "* channels (list of strings)\n",
    "\n",
    "**profile.json**\n",
    "* age (int) - age of the customer \n",
    "* became_member_on (int) - date when customer created an app account\n",
    "* gender (str) - gender of the customer (note some entries contain 'O' for other rather than M or F)\n",
    "* id (str) - customer id\n",
    "* income (float) - customer's income\n",
    "\n",
    "**transcript.json**\n",
    "* event (str) - record description (ie transaction, offer received, offer viewed, etc.)\n",
    "* person (str) - customer id\n",
    "* time (int) - time in hours since start of test. The data begins at time t=0\n",
    "* value - (dict of strings) - either an offer id or transaction amount depending on the record\n",
    "\n",
    "**Note:** If you are using the workspace, you will need to go to the terminal and run the command `conda update pandas` before reading in the files. This is because the version of pandas in the workspace cannot read in the transcript.json file correctly, but the newest version of pandas can. You can access the termnal from the orange icon in the top left of this notebook.  \n",
    "\n",
    "You can see how to access the terminal and how the install works using the two images below.  First you need to access the terminal:\n",
    "\n",
    "<img src=\"pic1.png\"/>\n",
    "\n",
    "Then you will want to run the above command:\n",
    "\n",
    "<img src=\"pic2.png\"/>\n",
    "\n",
    "Finally, when you enter back into the notebook (use the jupyter icon again), you should be able to run the below cell without any errors."
   ]
  },
  {
   "cell_type": "code",
   "execution_count": 74,
   "metadata": {},
   "outputs": [
    {
     "ename": "ModuleNotFoundError",
     "evalue": "No module named 'funk_svd'",
     "output_type": "error",
     "traceback": [
      "\u001b[0;31m---------------------------------------------------------------------------\u001b[0m",
      "\u001b[0;31mModuleNotFoundError\u001b[0m                       Traceback (most recent call last)",
      "\u001b[0;32m<ipython-input-74-33d8a72a8579>\u001b[0m in \u001b[0;36m<module>\u001b[0;34m()\u001b[0m\n\u001b[1;32m     11\u001b[0m \u001b[0;32mimport\u001b[0m \u001b[0mdatetime\u001b[0m\u001b[0;34m\u001b[0m\u001b[0m\n\u001b[1;32m     12\u001b[0m \u001b[0;34m\u001b[0m\u001b[0m\n\u001b[0;32m---> 13\u001b[0;31m \u001b[0;32mfrom\u001b[0m \u001b[0mfunk_svd\u001b[0m \u001b[0;32mimport\u001b[0m \u001b[0mSVD\u001b[0m\u001b[0;34m\u001b[0m\u001b[0m\n\u001b[0m",
      "\u001b[0;31mModuleNotFoundError\u001b[0m: No module named 'funk_svd'"
     ]
    }
   ],
   "source": [
    "import pandas as pd\n",
    "import numpy as np\n",
    "import math\n",
    "import json\n",
    "import matplotlib.pyplot as plt\n",
    "% matplotlib inline\n",
    "import re\n",
    "from pandas.io.json import json_normalize\n",
    "import seaborn as sns\n",
    "from timeit import default_timer as timer\n",
    "import datetime\n",
    "\n",
    "from funk_svd import SVD"
   ]
  },
  {
   "cell_type": "code",
   "execution_count": 2,
   "metadata": {},
   "outputs": [],
   "source": [
    "# read in the json files\n",
    "portfolio = pd.read_json('data/portfolio.json', orient='records', lines=True)\n",
    "profile = pd.read_json('data/profile.json', orient='records', lines=True)\n",
    "transcript = pd.read_json('data/transcript.json', orient='records', lines=True)"
   ]
  },
  {
   "cell_type": "markdown",
   "metadata": {},
   "source": [
    "# Data Exploration and Cleaning\n",
    "\n",
    "Let's take a look through the dataframes we are working with for the project and clean the data as we go."
   ]
  },
  {
   "cell_type": "code",
   "execution_count": 3,
   "metadata": {},
   "outputs": [
    {
     "data": {
      "text/html": [
       "<div>\n",
       "<style scoped>\n",
       "    .dataframe tbody tr th:only-of-type {\n",
       "        vertical-align: middle;\n",
       "    }\n",
       "\n",
       "    .dataframe tbody tr th {\n",
       "        vertical-align: top;\n",
       "    }\n",
       "\n",
       "    .dataframe thead th {\n",
       "        text-align: right;\n",
       "    }\n",
       "</style>\n",
       "<table border=\"1\" class=\"dataframe\">\n",
       "  <thead>\n",
       "    <tr style=\"text-align: right;\">\n",
       "      <th></th>\n",
       "      <th>channels</th>\n",
       "      <th>difficulty</th>\n",
       "      <th>duration</th>\n",
       "      <th>id</th>\n",
       "      <th>offer_type</th>\n",
       "      <th>reward</th>\n",
       "    </tr>\n",
       "  </thead>\n",
       "  <tbody>\n",
       "    <tr>\n",
       "      <th>0</th>\n",
       "      <td>[email, mobile, social]</td>\n",
       "      <td>10</td>\n",
       "      <td>7</td>\n",
       "      <td>ae264e3637204a6fb9bb56bc8210ddfd</td>\n",
       "      <td>bogo</td>\n",
       "      <td>10</td>\n",
       "    </tr>\n",
       "    <tr>\n",
       "      <th>1</th>\n",
       "      <td>[web, email, mobile, social]</td>\n",
       "      <td>10</td>\n",
       "      <td>5</td>\n",
       "      <td>4d5c57ea9a6940dd891ad53e9dbe8da0</td>\n",
       "      <td>bogo</td>\n",
       "      <td>10</td>\n",
       "    </tr>\n",
       "    <tr>\n",
       "      <th>2</th>\n",
       "      <td>[web, email, mobile]</td>\n",
       "      <td>0</td>\n",
       "      <td>4</td>\n",
       "      <td>3f207df678b143eea3cee63160fa8bed</td>\n",
       "      <td>informational</td>\n",
       "      <td>0</td>\n",
       "    </tr>\n",
       "    <tr>\n",
       "      <th>3</th>\n",
       "      <td>[web, email, mobile]</td>\n",
       "      <td>5</td>\n",
       "      <td>7</td>\n",
       "      <td>9b98b8c7a33c4b65b9aebfe6a799e6d9</td>\n",
       "      <td>bogo</td>\n",
       "      <td>5</td>\n",
       "    </tr>\n",
       "    <tr>\n",
       "      <th>4</th>\n",
       "      <td>[web, email]</td>\n",
       "      <td>20</td>\n",
       "      <td>10</td>\n",
       "      <td>0b1e1539f2cc45b7b9fa7c272da2e1d7</td>\n",
       "      <td>discount</td>\n",
       "      <td>5</td>\n",
       "    </tr>\n",
       "    <tr>\n",
       "      <th>5</th>\n",
       "      <td>[web, email, mobile, social]</td>\n",
       "      <td>7</td>\n",
       "      <td>7</td>\n",
       "      <td>2298d6c36e964ae4a3e7e9706d1fb8c2</td>\n",
       "      <td>discount</td>\n",
       "      <td>3</td>\n",
       "    </tr>\n",
       "    <tr>\n",
       "      <th>6</th>\n",
       "      <td>[web, email, mobile, social]</td>\n",
       "      <td>10</td>\n",
       "      <td>10</td>\n",
       "      <td>fafdcd668e3743c1bb461111dcafc2a4</td>\n",
       "      <td>discount</td>\n",
       "      <td>2</td>\n",
       "    </tr>\n",
       "    <tr>\n",
       "      <th>7</th>\n",
       "      <td>[email, mobile, social]</td>\n",
       "      <td>0</td>\n",
       "      <td>3</td>\n",
       "      <td>5a8bc65990b245e5a138643cd4eb9837</td>\n",
       "      <td>informational</td>\n",
       "      <td>0</td>\n",
       "    </tr>\n",
       "    <tr>\n",
       "      <th>8</th>\n",
       "      <td>[web, email, mobile, social]</td>\n",
       "      <td>5</td>\n",
       "      <td>5</td>\n",
       "      <td>f19421c1d4aa40978ebb69ca19b0e20d</td>\n",
       "      <td>bogo</td>\n",
       "      <td>5</td>\n",
       "    </tr>\n",
       "    <tr>\n",
       "      <th>9</th>\n",
       "      <td>[web, email, mobile]</td>\n",
       "      <td>10</td>\n",
       "      <td>7</td>\n",
       "      <td>2906b810c7d4411798c6938adc9daaa5</td>\n",
       "      <td>discount</td>\n",
       "      <td>2</td>\n",
       "    </tr>\n",
       "  </tbody>\n",
       "</table>\n",
       "</div>"
      ],
      "text/plain": [
       "                       channels  difficulty  duration  \\\n",
       "0       [email, mobile, social]          10         7   \n",
       "1  [web, email, mobile, social]          10         5   \n",
       "2          [web, email, mobile]           0         4   \n",
       "3          [web, email, mobile]           5         7   \n",
       "4                  [web, email]          20        10   \n",
       "5  [web, email, mobile, social]           7         7   \n",
       "6  [web, email, mobile, social]          10        10   \n",
       "7       [email, mobile, social]           0         3   \n",
       "8  [web, email, mobile, social]           5         5   \n",
       "9          [web, email, mobile]          10         7   \n",
       "\n",
       "                                 id     offer_type  reward  \n",
       "0  ae264e3637204a6fb9bb56bc8210ddfd           bogo      10  \n",
       "1  4d5c57ea9a6940dd891ad53e9dbe8da0           bogo      10  \n",
       "2  3f207df678b143eea3cee63160fa8bed  informational       0  \n",
       "3  9b98b8c7a33c4b65b9aebfe6a799e6d9           bogo       5  \n",
       "4  0b1e1539f2cc45b7b9fa7c272da2e1d7       discount       5  \n",
       "5  2298d6c36e964ae4a3e7e9706d1fb8c2       discount       3  \n",
       "6  fafdcd668e3743c1bb461111dcafc2a4       discount       2  \n",
       "7  5a8bc65990b245e5a138643cd4eb9837  informational       0  \n",
       "8  f19421c1d4aa40978ebb69ca19b0e20d           bogo       5  \n",
       "9  2906b810c7d4411798c6938adc9daaa5       discount       2  "
      ]
     },
     "execution_count": 3,
     "metadata": {},
     "output_type": "execute_result"
    }
   ],
   "source": [
    "# porfolio contains information about the 10 offers send to users.\n",
    "portfolio"
   ]
  },
  {
   "cell_type": "markdown",
   "metadata": {},
   "source": [
    "We should create a unique column for each channel to be able to use that information later on."
   ]
  },
  {
   "cell_type": "code",
   "execution_count": 4,
   "metadata": {},
   "outputs": [],
   "source": [
    "# create a new column for each channel\n",
    "portfolio['channel_web'],  portfolio['channel_email'], portfolio['channel_mobile'], portfolio['channel_social']= 0, 0, 0, 0\n",
    "\n"
   ]
  },
  {
   "cell_type": "code",
   "execution_count": 5,
   "metadata": {},
   "outputs": [
    {
     "name": "stderr",
     "output_type": "stream",
     "text": [
      "/opt/conda/lib/python3.6/site-packages/ipykernel_launcher.py:6: SettingWithCopyWarning: \n",
      "A value is trying to be set on a copy of a slice from a DataFrame\n",
      "\n",
      "See the caveats in the documentation: http://pandas.pydata.org/pandas-docs/stable/indexing.html#indexing-view-versus-copy\n",
      "  \n",
      "/opt/conda/lib/python3.6/site-packages/ipykernel_launcher.py:8: SettingWithCopyWarning: \n",
      "A value is trying to be set on a copy of a slice from a DataFrame\n",
      "\n",
      "See the caveats in the documentation: http://pandas.pydata.org/pandas-docs/stable/indexing.html#indexing-view-versus-copy\n",
      "  \n",
      "/opt/conda/lib/python3.6/site-packages/ipykernel_launcher.py:10: SettingWithCopyWarning: \n",
      "A value is trying to be set on a copy of a slice from a DataFrame\n",
      "\n",
      "See the caveats in the documentation: http://pandas.pydata.org/pandas-docs/stable/indexing.html#indexing-view-versus-copy\n",
      "  # Remove the CWD from sys.path while we load stuff.\n",
      "/opt/conda/lib/python3.6/site-packages/ipykernel_launcher.py:4: SettingWithCopyWarning: \n",
      "A value is trying to be set on a copy of a slice from a DataFrame\n",
      "\n",
      "See the caveats in the documentation: http://pandas.pydata.org/pandas-docs/stable/indexing.html#indexing-view-versus-copy\n",
      "  after removing the cwd from sys.path.\n"
     ]
    }
   ],
   "source": [
    "# Label the data by iterating over the list data for each offer\n",
    "for i, row in portfolio.iterrows():\n",
    "    if 'web' in portfolio.channels[i]:\n",
    "        portfolio['channel_web'][i] = 1\n",
    "    if 'email' in portfolio.channels[i]:\n",
    "        portfolio['channel_email'][i] = 1\n",
    "    if 'mobile' in portfolio.channels[i]:\n",
    "        portfolio['channel_mobile'][i] = 1\n",
    "    if 'social' in portfolio.channels[i]:\n",
    "        portfolio['channel_social'][i] = 1\n",
    "    \n"
   ]
  },
  {
   "cell_type": "code",
   "execution_count": 6,
   "metadata": {},
   "outputs": [],
   "source": [
    "# we can now drop the channels column\n",
    "portfolio.drop('channels', axis=1, inplace=True)"
   ]
  },
  {
   "cell_type": "code",
   "execution_count": 7,
   "metadata": {},
   "outputs": [],
   "source": [
    "# add a new column that tracks the duration in hours as it is currently in days\n",
    "portfolio['duration_hours'] = portfolio['duration'] * 24"
   ]
  },
  {
   "cell_type": "code",
   "execution_count": 8,
   "metadata": {},
   "outputs": [],
   "source": [
    "# let's add a unique id for each offer to help us track them across dataframes.\n",
    "# I grabbed this code from the previous udacity IBM recommendation project\n",
    "def offer_mapper():\n",
    "    coded_dict = dict()\n",
    "    cter = 1\n",
    "    offer_id_encoded = []\n",
    "    \n",
    "    for val in portfolio['id']:\n",
    "        if val not in coded_dict:\n",
    "            coded_dict[val] = cter\n",
    "            cter+=1\n",
    "        \n",
    "        offer_id_encoded.append(coded_dict[val])\n",
    "    return offer_id_encoded\n",
    "\n",
    "offer_id_encoded = offer_mapper()\n",
    "portfolio['offer_id'] = offer_id_encoded"
   ]
  },
  {
   "cell_type": "code",
   "execution_count": 9,
   "metadata": {},
   "outputs": [
    {
     "data": {
      "text/html": [
       "<div>\n",
       "<style scoped>\n",
       "    .dataframe tbody tr th:only-of-type {\n",
       "        vertical-align: middle;\n",
       "    }\n",
       "\n",
       "    .dataframe tbody tr th {\n",
       "        vertical-align: top;\n",
       "    }\n",
       "\n",
       "    .dataframe thead th {\n",
       "        text-align: right;\n",
       "    }\n",
       "</style>\n",
       "<table border=\"1\" class=\"dataframe\">\n",
       "  <thead>\n",
       "    <tr style=\"text-align: right;\">\n",
       "      <th></th>\n",
       "      <th>difficulty</th>\n",
       "      <th>duration</th>\n",
       "      <th>id</th>\n",
       "      <th>offer_type</th>\n",
       "      <th>reward</th>\n",
       "      <th>channel_web</th>\n",
       "      <th>channel_email</th>\n",
       "      <th>channel_mobile</th>\n",
       "      <th>channel_social</th>\n",
       "      <th>duration_hours</th>\n",
       "      <th>offer_id</th>\n",
       "    </tr>\n",
       "  </thead>\n",
       "  <tbody>\n",
       "    <tr>\n",
       "      <th>0</th>\n",
       "      <td>10</td>\n",
       "      <td>7</td>\n",
       "      <td>ae264e3637204a6fb9bb56bc8210ddfd</td>\n",
       "      <td>bogo</td>\n",
       "      <td>10</td>\n",
       "      <td>0</td>\n",
       "      <td>1</td>\n",
       "      <td>1</td>\n",
       "      <td>1</td>\n",
       "      <td>168</td>\n",
       "      <td>1</td>\n",
       "    </tr>\n",
       "    <tr>\n",
       "      <th>1</th>\n",
       "      <td>10</td>\n",
       "      <td>5</td>\n",
       "      <td>4d5c57ea9a6940dd891ad53e9dbe8da0</td>\n",
       "      <td>bogo</td>\n",
       "      <td>10</td>\n",
       "      <td>1</td>\n",
       "      <td>1</td>\n",
       "      <td>1</td>\n",
       "      <td>1</td>\n",
       "      <td>120</td>\n",
       "      <td>2</td>\n",
       "    </tr>\n",
       "    <tr>\n",
       "      <th>2</th>\n",
       "      <td>0</td>\n",
       "      <td>4</td>\n",
       "      <td>3f207df678b143eea3cee63160fa8bed</td>\n",
       "      <td>informational</td>\n",
       "      <td>0</td>\n",
       "      <td>1</td>\n",
       "      <td>1</td>\n",
       "      <td>1</td>\n",
       "      <td>0</td>\n",
       "      <td>96</td>\n",
       "      <td>3</td>\n",
       "    </tr>\n",
       "    <tr>\n",
       "      <th>3</th>\n",
       "      <td>5</td>\n",
       "      <td>7</td>\n",
       "      <td>9b98b8c7a33c4b65b9aebfe6a799e6d9</td>\n",
       "      <td>bogo</td>\n",
       "      <td>5</td>\n",
       "      <td>1</td>\n",
       "      <td>1</td>\n",
       "      <td>1</td>\n",
       "      <td>0</td>\n",
       "      <td>168</td>\n",
       "      <td>4</td>\n",
       "    </tr>\n",
       "    <tr>\n",
       "      <th>4</th>\n",
       "      <td>20</td>\n",
       "      <td>10</td>\n",
       "      <td>0b1e1539f2cc45b7b9fa7c272da2e1d7</td>\n",
       "      <td>discount</td>\n",
       "      <td>5</td>\n",
       "      <td>1</td>\n",
       "      <td>1</td>\n",
       "      <td>0</td>\n",
       "      <td>0</td>\n",
       "      <td>240</td>\n",
       "      <td>5</td>\n",
       "    </tr>\n",
       "    <tr>\n",
       "      <th>5</th>\n",
       "      <td>7</td>\n",
       "      <td>7</td>\n",
       "      <td>2298d6c36e964ae4a3e7e9706d1fb8c2</td>\n",
       "      <td>discount</td>\n",
       "      <td>3</td>\n",
       "      <td>1</td>\n",
       "      <td>1</td>\n",
       "      <td>1</td>\n",
       "      <td>1</td>\n",
       "      <td>168</td>\n",
       "      <td>6</td>\n",
       "    </tr>\n",
       "    <tr>\n",
       "      <th>6</th>\n",
       "      <td>10</td>\n",
       "      <td>10</td>\n",
       "      <td>fafdcd668e3743c1bb461111dcafc2a4</td>\n",
       "      <td>discount</td>\n",
       "      <td>2</td>\n",
       "      <td>1</td>\n",
       "      <td>1</td>\n",
       "      <td>1</td>\n",
       "      <td>1</td>\n",
       "      <td>240</td>\n",
       "      <td>7</td>\n",
       "    </tr>\n",
       "    <tr>\n",
       "      <th>7</th>\n",
       "      <td>0</td>\n",
       "      <td>3</td>\n",
       "      <td>5a8bc65990b245e5a138643cd4eb9837</td>\n",
       "      <td>informational</td>\n",
       "      <td>0</td>\n",
       "      <td>0</td>\n",
       "      <td>1</td>\n",
       "      <td>1</td>\n",
       "      <td>1</td>\n",
       "      <td>72</td>\n",
       "      <td>8</td>\n",
       "    </tr>\n",
       "    <tr>\n",
       "      <th>8</th>\n",
       "      <td>5</td>\n",
       "      <td>5</td>\n",
       "      <td>f19421c1d4aa40978ebb69ca19b0e20d</td>\n",
       "      <td>bogo</td>\n",
       "      <td>5</td>\n",
       "      <td>1</td>\n",
       "      <td>1</td>\n",
       "      <td>1</td>\n",
       "      <td>1</td>\n",
       "      <td>120</td>\n",
       "      <td>9</td>\n",
       "    </tr>\n",
       "    <tr>\n",
       "      <th>9</th>\n",
       "      <td>10</td>\n",
       "      <td>7</td>\n",
       "      <td>2906b810c7d4411798c6938adc9daaa5</td>\n",
       "      <td>discount</td>\n",
       "      <td>2</td>\n",
       "      <td>1</td>\n",
       "      <td>1</td>\n",
       "      <td>1</td>\n",
       "      <td>0</td>\n",
       "      <td>168</td>\n",
       "      <td>10</td>\n",
       "    </tr>\n",
       "  </tbody>\n",
       "</table>\n",
       "</div>"
      ],
      "text/plain": [
       "   difficulty  duration                                id     offer_type  \\\n",
       "0          10         7  ae264e3637204a6fb9bb56bc8210ddfd           bogo   \n",
       "1          10         5  4d5c57ea9a6940dd891ad53e9dbe8da0           bogo   \n",
       "2           0         4  3f207df678b143eea3cee63160fa8bed  informational   \n",
       "3           5         7  9b98b8c7a33c4b65b9aebfe6a799e6d9           bogo   \n",
       "4          20        10  0b1e1539f2cc45b7b9fa7c272da2e1d7       discount   \n",
       "5           7         7  2298d6c36e964ae4a3e7e9706d1fb8c2       discount   \n",
       "6          10        10  fafdcd668e3743c1bb461111dcafc2a4       discount   \n",
       "7           0         3  5a8bc65990b245e5a138643cd4eb9837  informational   \n",
       "8           5         5  f19421c1d4aa40978ebb69ca19b0e20d           bogo   \n",
       "9          10         7  2906b810c7d4411798c6938adc9daaa5       discount   \n",
       "\n",
       "   reward  channel_web  channel_email  channel_mobile  channel_social  \\\n",
       "0      10            0              1               1               1   \n",
       "1      10            1              1               1               1   \n",
       "2       0            1              1               1               0   \n",
       "3       5            1              1               1               0   \n",
       "4       5            1              1               0               0   \n",
       "5       3            1              1               1               1   \n",
       "6       2            1              1               1               1   \n",
       "7       0            0              1               1               1   \n",
       "8       5            1              1               1               1   \n",
       "9       2            1              1               1               0   \n",
       "\n",
       "   duration_hours  offer_id  \n",
       "0             168         1  \n",
       "1             120         2  \n",
       "2              96         3  \n",
       "3             168         4  \n",
       "4             240         5  \n",
       "5             168         6  \n",
       "6             240         7  \n",
       "7              72         8  \n",
       "8             120         9  \n",
       "9             168        10  "
      ]
     },
     "execution_count": 9,
     "metadata": {},
     "output_type": "execute_result"
    }
   ],
   "source": [
    "# Let's check the changes to the dataframe\n",
    "portfolio"
   ]
  },
  {
   "cell_type": "code",
   "execution_count": 10,
   "metadata": {},
   "outputs": [
    {
     "data": {
      "text/html": [
       "<div>\n",
       "<style scoped>\n",
       "    .dataframe tbody tr th:only-of-type {\n",
       "        vertical-align: middle;\n",
       "    }\n",
       "\n",
       "    .dataframe tbody tr th {\n",
       "        vertical-align: top;\n",
       "    }\n",
       "\n",
       "    .dataframe thead th {\n",
       "        text-align: right;\n",
       "    }\n",
       "</style>\n",
       "<table border=\"1\" class=\"dataframe\">\n",
       "  <thead>\n",
       "    <tr style=\"text-align: right;\">\n",
       "      <th></th>\n",
       "      <th>age</th>\n",
       "      <th>became_member_on</th>\n",
       "      <th>gender</th>\n",
       "      <th>id</th>\n",
       "      <th>income</th>\n",
       "    </tr>\n",
       "  </thead>\n",
       "  <tbody>\n",
       "    <tr>\n",
       "      <th>0</th>\n",
       "      <td>118</td>\n",
       "      <td>20170212</td>\n",
       "      <td>None</td>\n",
       "      <td>68be06ca386d4c31939f3a4f0e3dd783</td>\n",
       "      <td>NaN</td>\n",
       "    </tr>\n",
       "    <tr>\n",
       "      <th>1</th>\n",
       "      <td>55</td>\n",
       "      <td>20170715</td>\n",
       "      <td>F</td>\n",
       "      <td>0610b486422d4921ae7d2bf64640c50b</td>\n",
       "      <td>112000.0</td>\n",
       "    </tr>\n",
       "    <tr>\n",
       "      <th>2</th>\n",
       "      <td>118</td>\n",
       "      <td>20180712</td>\n",
       "      <td>None</td>\n",
       "      <td>38fe809add3b4fcf9315a9694bb96ff5</td>\n",
       "      <td>NaN</td>\n",
       "    </tr>\n",
       "    <tr>\n",
       "      <th>3</th>\n",
       "      <td>75</td>\n",
       "      <td>20170509</td>\n",
       "      <td>F</td>\n",
       "      <td>78afa995795e4d85b5d9ceeca43f5fef</td>\n",
       "      <td>100000.0</td>\n",
       "    </tr>\n",
       "    <tr>\n",
       "      <th>4</th>\n",
       "      <td>118</td>\n",
       "      <td>20170804</td>\n",
       "      <td>None</td>\n",
       "      <td>a03223e636434f42ac4c3df47e8bac43</td>\n",
       "      <td>NaN</td>\n",
       "    </tr>\n",
       "  </tbody>\n",
       "</table>\n",
       "</div>"
      ],
      "text/plain": [
       "   age  became_member_on gender                                id    income\n",
       "0  118          20170212   None  68be06ca386d4c31939f3a4f0e3dd783       NaN\n",
       "1   55          20170715      F  0610b486422d4921ae7d2bf64640c50b  112000.0\n",
       "2  118          20180712   None  38fe809add3b4fcf9315a9694bb96ff5       NaN\n",
       "3   75          20170509      F  78afa995795e4d85b5d9ceeca43f5fef  100000.0\n",
       "4  118          20170804   None  a03223e636434f42ac4c3df47e8bac43       NaN"
      ]
     },
     "execution_count": 10,
     "metadata": {},
     "output_type": "execute_result"
    }
   ],
   "source": [
    "# Let's take a look at the profile dataframe\n",
    "profile.head()"
   ]
  },
  {
   "cell_type": "code",
   "execution_count": 11,
   "metadata": {},
   "outputs": [
    {
     "data": {
      "text/plain": [
       "(False    14825\n",
       " True      2175\n",
       " Name: gender, dtype: int64, False    14825\n",
       " True      2175\n",
       " Name: income, dtype: int64)"
      ]
     },
     "execution_count": 11,
     "metadata": {},
     "output_type": "execute_result"
    }
   ],
   "source": [
    "# Let's take a look at the missing data from the profile dataframe\n",
    "profile.gender.isna().value_counts(), profile.income.isna().value_counts()"
   ]
  },
  {
   "cell_type": "markdown",
   "metadata": {},
   "source": [
    "2175 users don't have age, gender or income data."
   ]
  },
  {
   "cell_type": "code",
   "execution_count": 12,
   "metadata": {},
   "outputs": [
    {
     "data": {
      "text/html": [
       "<div>\n",
       "<style scoped>\n",
       "    .dataframe tbody tr th:only-of-type {\n",
       "        vertical-align: middle;\n",
       "    }\n",
       "\n",
       "    .dataframe tbody tr th {\n",
       "        vertical-align: top;\n",
       "    }\n",
       "\n",
       "    .dataframe thead th {\n",
       "        text-align: right;\n",
       "    }\n",
       "</style>\n",
       "<table border=\"1\" class=\"dataframe\">\n",
       "  <thead>\n",
       "    <tr style=\"text-align: right;\">\n",
       "      <th></th>\n",
       "      <th>age</th>\n",
       "      <th>became_member_on</th>\n",
       "      <th>income</th>\n",
       "    </tr>\n",
       "  </thead>\n",
       "  <tbody>\n",
       "    <tr>\n",
       "      <th>count</th>\n",
       "      <td>17000.000000</td>\n",
       "      <td>1.700000e+04</td>\n",
       "      <td>14825.000000</td>\n",
       "    </tr>\n",
       "    <tr>\n",
       "      <th>mean</th>\n",
       "      <td>62.531412</td>\n",
       "      <td>2.016703e+07</td>\n",
       "      <td>65404.991568</td>\n",
       "    </tr>\n",
       "    <tr>\n",
       "      <th>std</th>\n",
       "      <td>26.738580</td>\n",
       "      <td>1.167750e+04</td>\n",
       "      <td>21598.299410</td>\n",
       "    </tr>\n",
       "    <tr>\n",
       "      <th>min</th>\n",
       "      <td>18.000000</td>\n",
       "      <td>2.013073e+07</td>\n",
       "      <td>30000.000000</td>\n",
       "    </tr>\n",
       "    <tr>\n",
       "      <th>25%</th>\n",
       "      <td>45.000000</td>\n",
       "      <td>2.016053e+07</td>\n",
       "      <td>49000.000000</td>\n",
       "    </tr>\n",
       "    <tr>\n",
       "      <th>50%</th>\n",
       "      <td>58.000000</td>\n",
       "      <td>2.017080e+07</td>\n",
       "      <td>64000.000000</td>\n",
       "    </tr>\n",
       "    <tr>\n",
       "      <th>75%</th>\n",
       "      <td>73.000000</td>\n",
       "      <td>2.017123e+07</td>\n",
       "      <td>80000.000000</td>\n",
       "    </tr>\n",
       "    <tr>\n",
       "      <th>max</th>\n",
       "      <td>118.000000</td>\n",
       "      <td>2.018073e+07</td>\n",
       "      <td>120000.000000</td>\n",
       "    </tr>\n",
       "  </tbody>\n",
       "</table>\n",
       "</div>"
      ],
      "text/plain": [
       "                age  became_member_on         income\n",
       "count  17000.000000      1.700000e+04   14825.000000\n",
       "mean      62.531412      2.016703e+07   65404.991568\n",
       "std       26.738580      1.167750e+04   21598.299410\n",
       "min       18.000000      2.013073e+07   30000.000000\n",
       "25%       45.000000      2.016053e+07   49000.000000\n",
       "50%       58.000000      2.017080e+07   64000.000000\n",
       "75%       73.000000      2.017123e+07   80000.000000\n",
       "max      118.000000      2.018073e+07  120000.000000"
      ]
     },
     "execution_count": 12,
     "metadata": {},
     "output_type": "execute_result"
    }
   ],
   "source": [
    "# Lets look at the profile stats\n",
    "profile.describe()"
   ]
  },
  {
   "cell_type": "code",
   "execution_count": null,
   "metadata": {},
   "outputs": [],
   "source": []
  },
  {
   "cell_type": "code",
   "execution_count": 13,
   "metadata": {},
   "outputs": [
    {
     "data": {
      "text/html": [
       "<div>\n",
       "<style scoped>\n",
       "    .dataframe tbody tr th:only-of-type {\n",
       "        vertical-align: middle;\n",
       "    }\n",
       "\n",
       "    .dataframe tbody tr th {\n",
       "        vertical-align: top;\n",
       "    }\n",
       "\n",
       "    .dataframe thead th {\n",
       "        text-align: right;\n",
       "    }\n",
       "</style>\n",
       "<table border=\"1\" class=\"dataframe\">\n",
       "  <thead>\n",
       "    <tr style=\"text-align: right;\">\n",
       "      <th></th>\n",
       "      <th>age</th>\n",
       "      <th>became_member_on</th>\n",
       "      <th>gender</th>\n",
       "      <th>id</th>\n",
       "      <th>income</th>\n",
       "      <th>user_id</th>\n",
       "    </tr>\n",
       "  </thead>\n",
       "  <tbody>\n",
       "    <tr>\n",
       "      <th>0</th>\n",
       "      <td>118</td>\n",
       "      <td>20170212</td>\n",
       "      <td>None</td>\n",
       "      <td>68be06ca386d4c31939f3a4f0e3dd783</td>\n",
       "      <td>NaN</td>\n",
       "      <td>1</td>\n",
       "    </tr>\n",
       "    <tr>\n",
       "      <th>1</th>\n",
       "      <td>55</td>\n",
       "      <td>20170715</td>\n",
       "      <td>F</td>\n",
       "      <td>0610b486422d4921ae7d2bf64640c50b</td>\n",
       "      <td>112000.0</td>\n",
       "      <td>2</td>\n",
       "    </tr>\n",
       "    <tr>\n",
       "      <th>2</th>\n",
       "      <td>118</td>\n",
       "      <td>20180712</td>\n",
       "      <td>None</td>\n",
       "      <td>38fe809add3b4fcf9315a9694bb96ff5</td>\n",
       "      <td>NaN</td>\n",
       "      <td>3</td>\n",
       "    </tr>\n",
       "    <tr>\n",
       "      <th>3</th>\n",
       "      <td>75</td>\n",
       "      <td>20170509</td>\n",
       "      <td>F</td>\n",
       "      <td>78afa995795e4d85b5d9ceeca43f5fef</td>\n",
       "      <td>100000.0</td>\n",
       "      <td>4</td>\n",
       "    </tr>\n",
       "    <tr>\n",
       "      <th>4</th>\n",
       "      <td>118</td>\n",
       "      <td>20170804</td>\n",
       "      <td>None</td>\n",
       "      <td>a03223e636434f42ac4c3df47e8bac43</td>\n",
       "      <td>NaN</td>\n",
       "      <td>5</td>\n",
       "    </tr>\n",
       "  </tbody>\n",
       "</table>\n",
       "</div>"
      ],
      "text/plain": [
       "   age  became_member_on gender                                id    income  \\\n",
       "0  118          20170212   None  68be06ca386d4c31939f3a4f0e3dd783       NaN   \n",
       "1   55          20170715      F  0610b486422d4921ae7d2bf64640c50b  112000.0   \n",
       "2  118          20180712   None  38fe809add3b4fcf9315a9694bb96ff5       NaN   \n",
       "3   75          20170509      F  78afa995795e4d85b5d9ceeca43f5fef  100000.0   \n",
       "4  118          20170804   None  a03223e636434f42ac4c3df47e8bac43       NaN   \n",
       "\n",
       "   user_id  \n",
       "0        1  \n",
       "1        2  \n",
       "2        3  \n",
       "3        4  \n",
       "4        5  "
      ]
     },
     "execution_count": 13,
     "metadata": {},
     "output_type": "execute_result"
    }
   ],
   "source": [
    "# Create user_ids for each user in the profile dataframe\n",
    "def id_mapper():\n",
    "    coded_dict = dict()\n",
    "    cter = 1\n",
    "    id_encoded = []\n",
    "    \n",
    "    for val in profile['id']:\n",
    "        if val not in coded_dict:\n",
    "            coded_dict[val] = cter\n",
    "            cter+=1\n",
    "        \n",
    "        id_encoded.append(coded_dict[val])\n",
    "    return id_encoded\n",
    "\n",
    "id_encoded = id_mapper()\n",
    "profile['user_id'] = id_encoded\n",
    "\n",
    "# show header\n",
    "profile.head()"
   ]
  },
  {
   "cell_type": "code",
   "execution_count": null,
   "metadata": {},
   "outputs": [],
   "source": []
  },
  {
   "cell_type": "code",
   "execution_count": 14,
   "metadata": {},
   "outputs": [
    {
     "data": {
      "text/html": [
       "<div>\n",
       "<style scoped>\n",
       "    .dataframe tbody tr th:only-of-type {\n",
       "        vertical-align: middle;\n",
       "    }\n",
       "\n",
       "    .dataframe tbody tr th {\n",
       "        vertical-align: top;\n",
       "    }\n",
       "\n",
       "    .dataframe thead th {\n",
       "        text-align: right;\n",
       "    }\n",
       "</style>\n",
       "<table border=\"1\" class=\"dataframe\">\n",
       "  <thead>\n",
       "    <tr style=\"text-align: right;\">\n",
       "      <th></th>\n",
       "      <th>event</th>\n",
       "      <th>person</th>\n",
       "      <th>time</th>\n",
       "      <th>value</th>\n",
       "    </tr>\n",
       "  </thead>\n",
       "  <tbody>\n",
       "    <tr>\n",
       "      <th>0</th>\n",
       "      <td>offer received</td>\n",
       "      <td>78afa995795e4d85b5d9ceeca43f5fef</td>\n",
       "      <td>0</td>\n",
       "      <td>{'offer id': '9b98b8c7a33c4b65b9aebfe6a799e6d9'}</td>\n",
       "    </tr>\n",
       "    <tr>\n",
       "      <th>1</th>\n",
       "      <td>offer received</td>\n",
       "      <td>a03223e636434f42ac4c3df47e8bac43</td>\n",
       "      <td>0</td>\n",
       "      <td>{'offer id': '0b1e1539f2cc45b7b9fa7c272da2e1d7'}</td>\n",
       "    </tr>\n",
       "    <tr>\n",
       "      <th>2</th>\n",
       "      <td>offer received</td>\n",
       "      <td>e2127556f4f64592b11af22de27a7932</td>\n",
       "      <td>0</td>\n",
       "      <td>{'offer id': '2906b810c7d4411798c6938adc9daaa5'}</td>\n",
       "    </tr>\n",
       "    <tr>\n",
       "      <th>3</th>\n",
       "      <td>offer received</td>\n",
       "      <td>8ec6ce2a7e7949b1bf142def7d0e0586</td>\n",
       "      <td>0</td>\n",
       "      <td>{'offer id': 'fafdcd668e3743c1bb461111dcafc2a4'}</td>\n",
       "    </tr>\n",
       "    <tr>\n",
       "      <th>4</th>\n",
       "      <td>offer received</td>\n",
       "      <td>68617ca6246f4fbc85e91a2a49552598</td>\n",
       "      <td>0</td>\n",
       "      <td>{'offer id': '4d5c57ea9a6940dd891ad53e9dbe8da0'}</td>\n",
       "    </tr>\n",
       "  </tbody>\n",
       "</table>\n",
       "</div>"
      ],
      "text/plain": [
       "            event                            person  time  \\\n",
       "0  offer received  78afa995795e4d85b5d9ceeca43f5fef     0   \n",
       "1  offer received  a03223e636434f42ac4c3df47e8bac43     0   \n",
       "2  offer received  e2127556f4f64592b11af22de27a7932     0   \n",
       "3  offer received  8ec6ce2a7e7949b1bf142def7d0e0586     0   \n",
       "4  offer received  68617ca6246f4fbc85e91a2a49552598     0   \n",
       "\n",
       "                                              value  \n",
       "0  {'offer id': '9b98b8c7a33c4b65b9aebfe6a799e6d9'}  \n",
       "1  {'offer id': '0b1e1539f2cc45b7b9fa7c272da2e1d7'}  \n",
       "2  {'offer id': '2906b810c7d4411798c6938adc9daaa5'}  \n",
       "3  {'offer id': 'fafdcd668e3743c1bb461111dcafc2a4'}  \n",
       "4  {'offer id': '4d5c57ea9a6940dd891ad53e9dbe8da0'}  "
      ]
     },
     "execution_count": 14,
     "metadata": {},
     "output_type": "execute_result"
    }
   ],
   "source": [
    "# Let's look at the transcript dataframe\n",
    "transcript.head()"
   ]
  },
  {
   "cell_type": "code",
   "execution_count": 15,
   "metadata": {},
   "outputs": [
    {
     "data": {
      "text/plain": [
       "transaction        138953\n",
       "offer received      76277\n",
       "offer viewed        57725\n",
       "offer completed     33579\n",
       "Name: event, dtype: int64"
      ]
     },
     "execution_count": 15,
     "metadata": {},
     "output_type": "execute_result"
    }
   ],
   "source": [
    "# How many of each type of event is in the transcript dataframe\n",
    "transcript.event.value_counts()"
   ]
  },
  {
   "cell_type": "code",
   "execution_count": 16,
   "metadata": {},
   "outputs": [
    {
     "data": {
      "text/plain": [
       "(306534, 9)"
      ]
     },
     "execution_count": 16,
     "metadata": {},
     "output_type": "execute_result"
    }
   ],
   "source": [
    "# Create new dataframe that joins the transcript to the profile, \n",
    "# so we can get demographic information about the events\n",
    "df = transcript.join(profile.set_index('id'), on='person')\n",
    "df.shape"
   ]
  },
  {
   "cell_type": "code",
   "execution_count": 17,
   "metadata": {},
   "outputs": [
    {
     "data": {
      "text/html": [
       "<div>\n",
       "<style scoped>\n",
       "    .dataframe tbody tr th:only-of-type {\n",
       "        vertical-align: middle;\n",
       "    }\n",
       "\n",
       "    .dataframe tbody tr th {\n",
       "        vertical-align: top;\n",
       "    }\n",
       "\n",
       "    .dataframe thead th {\n",
       "        text-align: right;\n",
       "    }\n",
       "</style>\n",
       "<table border=\"1\" class=\"dataframe\">\n",
       "  <thead>\n",
       "    <tr style=\"text-align: right;\">\n",
       "      <th></th>\n",
       "      <th>event</th>\n",
       "      <th>person</th>\n",
       "      <th>time</th>\n",
       "      <th>value</th>\n",
       "      <th>age</th>\n",
       "      <th>became_member_on</th>\n",
       "      <th>gender</th>\n",
       "      <th>income</th>\n",
       "      <th>user_id</th>\n",
       "    </tr>\n",
       "  </thead>\n",
       "  <tbody>\n",
       "    <tr>\n",
       "      <th>0</th>\n",
       "      <td>offer received</td>\n",
       "      <td>78afa995795e4d85b5d9ceeca43f5fef</td>\n",
       "      <td>0</td>\n",
       "      <td>{'offer id': '9b98b8c7a33c4b65b9aebfe6a799e6d9'}</td>\n",
       "      <td>75</td>\n",
       "      <td>20170509</td>\n",
       "      <td>F</td>\n",
       "      <td>100000.0</td>\n",
       "      <td>4</td>\n",
       "    </tr>\n",
       "    <tr>\n",
       "      <th>1</th>\n",
       "      <td>offer received</td>\n",
       "      <td>a03223e636434f42ac4c3df47e8bac43</td>\n",
       "      <td>0</td>\n",
       "      <td>{'offer id': '0b1e1539f2cc45b7b9fa7c272da2e1d7'}</td>\n",
       "      <td>118</td>\n",
       "      <td>20170804</td>\n",
       "      <td>None</td>\n",
       "      <td>NaN</td>\n",
       "      <td>5</td>\n",
       "    </tr>\n",
       "    <tr>\n",
       "      <th>2</th>\n",
       "      <td>offer received</td>\n",
       "      <td>e2127556f4f64592b11af22de27a7932</td>\n",
       "      <td>0</td>\n",
       "      <td>{'offer id': '2906b810c7d4411798c6938adc9daaa5'}</td>\n",
       "      <td>68</td>\n",
       "      <td>20180426</td>\n",
       "      <td>M</td>\n",
       "      <td>70000.0</td>\n",
       "      <td>6</td>\n",
       "    </tr>\n",
       "    <tr>\n",
       "      <th>3</th>\n",
       "      <td>offer received</td>\n",
       "      <td>8ec6ce2a7e7949b1bf142def7d0e0586</td>\n",
       "      <td>0</td>\n",
       "      <td>{'offer id': 'fafdcd668e3743c1bb461111dcafc2a4'}</td>\n",
       "      <td>118</td>\n",
       "      <td>20170925</td>\n",
       "      <td>None</td>\n",
       "      <td>NaN</td>\n",
       "      <td>7</td>\n",
       "    </tr>\n",
       "    <tr>\n",
       "      <th>4</th>\n",
       "      <td>offer received</td>\n",
       "      <td>68617ca6246f4fbc85e91a2a49552598</td>\n",
       "      <td>0</td>\n",
       "      <td>{'offer id': '4d5c57ea9a6940dd891ad53e9dbe8da0'}</td>\n",
       "      <td>118</td>\n",
       "      <td>20171002</td>\n",
       "      <td>None</td>\n",
       "      <td>NaN</td>\n",
       "      <td>8</td>\n",
       "    </tr>\n",
       "  </tbody>\n",
       "</table>\n",
       "</div>"
      ],
      "text/plain": [
       "            event                            person  time  \\\n",
       "0  offer received  78afa995795e4d85b5d9ceeca43f5fef     0   \n",
       "1  offer received  a03223e636434f42ac4c3df47e8bac43     0   \n",
       "2  offer received  e2127556f4f64592b11af22de27a7932     0   \n",
       "3  offer received  8ec6ce2a7e7949b1bf142def7d0e0586     0   \n",
       "4  offer received  68617ca6246f4fbc85e91a2a49552598     0   \n",
       "\n",
       "                                              value  age  became_member_on  \\\n",
       "0  {'offer id': '9b98b8c7a33c4b65b9aebfe6a799e6d9'}   75          20170509   \n",
       "1  {'offer id': '0b1e1539f2cc45b7b9fa7c272da2e1d7'}  118          20170804   \n",
       "2  {'offer id': '2906b810c7d4411798c6938adc9daaa5'}   68          20180426   \n",
       "3  {'offer id': 'fafdcd668e3743c1bb461111dcafc2a4'}  118          20170925   \n",
       "4  {'offer id': '4d5c57ea9a6940dd891ad53e9dbe8da0'}  118          20171002   \n",
       "\n",
       "  gender    income  user_id  \n",
       "0      F  100000.0        4  \n",
       "1   None       NaN        5  \n",
       "2      M   70000.0        6  \n",
       "3   None       NaN        7  \n",
       "4   None       NaN        8  "
      ]
     },
     "execution_count": 17,
     "metadata": {},
     "output_type": "execute_result"
    }
   ],
   "source": [
    "df.head()"
   ]
  },
  {
   "cell_type": "markdown",
   "metadata": {},
   "source": [
    "We need to extract the information from the dict values in the value column. "
   ]
  },
  {
   "cell_type": "code",
   "execution_count": 18,
   "metadata": {},
   "outputs": [],
   "source": [
    "# use json_normalize to get event data and create a new data frame \n",
    "# which contains the offer id which we need to use to join the portfolio dataframe\n",
    "offers = json_normalize(df['value'])"
   ]
  },
  {
   "cell_type": "code",
   "execution_count": 19,
   "metadata": {},
   "outputs": [
    {
     "data": {
      "text/html": [
       "<div>\n",
       "<style scoped>\n",
       "    .dataframe tbody tr th:only-of-type {\n",
       "        vertical-align: middle;\n",
       "    }\n",
       "\n",
       "    .dataframe tbody tr th {\n",
       "        vertical-align: top;\n",
       "    }\n",
       "\n",
       "    .dataframe thead th {\n",
       "        text-align: right;\n",
       "    }\n",
       "</style>\n",
       "<table border=\"1\" class=\"dataframe\">\n",
       "  <thead>\n",
       "    <tr style=\"text-align: right;\">\n",
       "      <th></th>\n",
       "      <th>amount</th>\n",
       "      <th>offer id</th>\n",
       "      <th>offer_id</th>\n",
       "      <th>reward</th>\n",
       "    </tr>\n",
       "  </thead>\n",
       "  <tbody>\n",
       "    <tr>\n",
       "      <th>0</th>\n",
       "      <td>NaN</td>\n",
       "      <td>9b98b8c7a33c4b65b9aebfe6a799e6d9</td>\n",
       "      <td>NaN</td>\n",
       "      <td>NaN</td>\n",
       "    </tr>\n",
       "    <tr>\n",
       "      <th>1</th>\n",
       "      <td>NaN</td>\n",
       "      <td>0b1e1539f2cc45b7b9fa7c272da2e1d7</td>\n",
       "      <td>NaN</td>\n",
       "      <td>NaN</td>\n",
       "    </tr>\n",
       "    <tr>\n",
       "      <th>2</th>\n",
       "      <td>NaN</td>\n",
       "      <td>2906b810c7d4411798c6938adc9daaa5</td>\n",
       "      <td>NaN</td>\n",
       "      <td>NaN</td>\n",
       "    </tr>\n",
       "    <tr>\n",
       "      <th>3</th>\n",
       "      <td>NaN</td>\n",
       "      <td>fafdcd668e3743c1bb461111dcafc2a4</td>\n",
       "      <td>NaN</td>\n",
       "      <td>NaN</td>\n",
       "    </tr>\n",
       "    <tr>\n",
       "      <th>4</th>\n",
       "      <td>NaN</td>\n",
       "      <td>4d5c57ea9a6940dd891ad53e9dbe8da0</td>\n",
       "      <td>NaN</td>\n",
       "      <td>NaN</td>\n",
       "    </tr>\n",
       "  </tbody>\n",
       "</table>\n",
       "</div>"
      ],
      "text/plain": [
       "   amount                          offer id offer_id  reward\n",
       "0     NaN  9b98b8c7a33c4b65b9aebfe6a799e6d9      NaN     NaN\n",
       "1     NaN  0b1e1539f2cc45b7b9fa7c272da2e1d7      NaN     NaN\n",
       "2     NaN  2906b810c7d4411798c6938adc9daaa5      NaN     NaN\n",
       "3     NaN  fafdcd668e3743c1bb461111dcafc2a4      NaN     NaN\n",
       "4     NaN  4d5c57ea9a6940dd891ad53e9dbe8da0      NaN     NaN"
      ]
     },
     "execution_count": 19,
     "metadata": {},
     "output_type": "execute_result"
    }
   ],
   "source": [
    "offers.head()"
   ]
  },
  {
   "cell_type": "code",
   "execution_count": 20,
   "metadata": {},
   "outputs": [],
   "source": [
    "# join the offers dataframe to the main event + demographics df dataframe\n",
    "df = df.join(offers, how='outer')"
   ]
  },
  {
   "cell_type": "code",
   "execution_count": 21,
   "metadata": {},
   "outputs": [],
   "source": [
    "# Create a column that combines the offer ids \n",
    "# different offer event had different offer id labels ('offer id' and 'offer_id').\n",
    "df['offer_id'] = df.offer_id.combine_first(df['offer id'])"
   ]
  },
  {
   "cell_type": "code",
   "execution_count": 22,
   "metadata": {},
   "outputs": [],
   "source": [
    "# drop the offer id column as all the offer ids are now in the offer_id columns\n",
    "df.drop(['offer id', 'value', 'person'], axis=1, inplace=True)"
   ]
  },
  {
   "cell_type": "code",
   "execution_count": 23,
   "metadata": {},
   "outputs": [
    {
     "data": {
      "text/html": [
       "<div>\n",
       "<style scoped>\n",
       "    .dataframe tbody tr th:only-of-type {\n",
       "        vertical-align: middle;\n",
       "    }\n",
       "\n",
       "    .dataframe tbody tr th {\n",
       "        vertical-align: top;\n",
       "    }\n",
       "\n",
       "    .dataframe thead th {\n",
       "        text-align: right;\n",
       "    }\n",
       "</style>\n",
       "<table border=\"1\" class=\"dataframe\">\n",
       "  <thead>\n",
       "    <tr style=\"text-align: right;\">\n",
       "      <th></th>\n",
       "      <th>event</th>\n",
       "      <th>time</th>\n",
       "      <th>age</th>\n",
       "      <th>became_member_on</th>\n",
       "      <th>gender</th>\n",
       "      <th>income</th>\n",
       "      <th>user_id</th>\n",
       "      <th>amount</th>\n",
       "      <th>offer_id</th>\n",
       "      <th>reward</th>\n",
       "    </tr>\n",
       "  </thead>\n",
       "  <tbody>\n",
       "    <tr>\n",
       "      <th>0</th>\n",
       "      <td>offer received</td>\n",
       "      <td>0</td>\n",
       "      <td>75</td>\n",
       "      <td>20170509</td>\n",
       "      <td>F</td>\n",
       "      <td>100000.0</td>\n",
       "      <td>4</td>\n",
       "      <td>NaN</td>\n",
       "      <td>9b98b8c7a33c4b65b9aebfe6a799e6d9</td>\n",
       "      <td>NaN</td>\n",
       "    </tr>\n",
       "    <tr>\n",
       "      <th>1</th>\n",
       "      <td>offer received</td>\n",
       "      <td>0</td>\n",
       "      <td>118</td>\n",
       "      <td>20170804</td>\n",
       "      <td>None</td>\n",
       "      <td>NaN</td>\n",
       "      <td>5</td>\n",
       "      <td>NaN</td>\n",
       "      <td>0b1e1539f2cc45b7b9fa7c272da2e1d7</td>\n",
       "      <td>NaN</td>\n",
       "    </tr>\n",
       "    <tr>\n",
       "      <th>2</th>\n",
       "      <td>offer received</td>\n",
       "      <td>0</td>\n",
       "      <td>68</td>\n",
       "      <td>20180426</td>\n",
       "      <td>M</td>\n",
       "      <td>70000.0</td>\n",
       "      <td>6</td>\n",
       "      <td>NaN</td>\n",
       "      <td>2906b810c7d4411798c6938adc9daaa5</td>\n",
       "      <td>NaN</td>\n",
       "    </tr>\n",
       "    <tr>\n",
       "      <th>3</th>\n",
       "      <td>offer received</td>\n",
       "      <td>0</td>\n",
       "      <td>118</td>\n",
       "      <td>20170925</td>\n",
       "      <td>None</td>\n",
       "      <td>NaN</td>\n",
       "      <td>7</td>\n",
       "      <td>NaN</td>\n",
       "      <td>fafdcd668e3743c1bb461111dcafc2a4</td>\n",
       "      <td>NaN</td>\n",
       "    </tr>\n",
       "    <tr>\n",
       "      <th>4</th>\n",
       "      <td>offer received</td>\n",
       "      <td>0</td>\n",
       "      <td>118</td>\n",
       "      <td>20171002</td>\n",
       "      <td>None</td>\n",
       "      <td>NaN</td>\n",
       "      <td>8</td>\n",
       "      <td>NaN</td>\n",
       "      <td>4d5c57ea9a6940dd891ad53e9dbe8da0</td>\n",
       "      <td>NaN</td>\n",
       "    </tr>\n",
       "  </tbody>\n",
       "</table>\n",
       "</div>"
      ],
      "text/plain": [
       "            event  time  age  became_member_on gender    income  user_id  \\\n",
       "0  offer received     0   75          20170509      F  100000.0        4   \n",
       "1  offer received     0  118          20170804   None       NaN        5   \n",
       "2  offer received     0   68          20180426      M   70000.0        6   \n",
       "3  offer received     0  118          20170925   None       NaN        7   \n",
       "4  offer received     0  118          20171002   None       NaN        8   \n",
       "\n",
       "   amount                          offer_id  reward  \n",
       "0     NaN  9b98b8c7a33c4b65b9aebfe6a799e6d9     NaN  \n",
       "1     NaN  0b1e1539f2cc45b7b9fa7c272da2e1d7     NaN  \n",
       "2     NaN  2906b810c7d4411798c6938adc9daaa5     NaN  \n",
       "3     NaN  fafdcd668e3743c1bb461111dcafc2a4     NaN  \n",
       "4     NaN  4d5c57ea9a6940dd891ad53e9dbe8da0     NaN  "
      ]
     },
     "execution_count": 23,
     "metadata": {},
     "output_type": "execute_result"
    }
   ],
   "source": [
    "df.head()"
   ]
  },
  {
   "cell_type": "code",
   "execution_count": 24,
   "metadata": {},
   "outputs": [],
   "source": [
    "#Let's take a quick look at the amounts spent and rewards earned across this dataset\n",
    "user_rewards_earned = df.groupby('user_id')['reward'].sum().sort_values(ascending=False)\n",
    "user_amount_spent = df.groupby('user_id')['amount'].sum().sort_values(ascending=False)"
   ]
  },
  {
   "cell_type": "code",
   "execution_count": 25,
   "metadata": {},
   "outputs": [
    {
     "data": {
      "image/png": "[encoded data removed]",
      "text/plain": [
       "<matplotlib.figure.Figure at 0x7f3ab82b1eb8>"
      ]
     },
     "metadata": {
      "needs_background": "light"
     },
     "output_type": "display_data"
    },
    {
     "data": {
      "image/png": "[encoded data removed]",
      "text/plain": [
       "<matplotlib.figure.Figure at 0x7f3ab82c4c88>"
      ]
     },
     "metadata": {
      "needs_background": "light"
     },
     "output_type": "display_data"
    }
   ],
   "source": [
    "# plot distribution of amount spent or reward earned across the users in the dataframe\n",
    "plt.figure(figsize=(8,4))\n",
    "plt.subplot(121)\n",
    "sns.distplot(user_rewards_earned, color='green');\n",
    "plt.title('Distribution of rewards earned')\n",
    "plt.figure(figsize=(8,4))\n",
    "plt.subplot(122)\n",
    "sns.distplot(user_amount_spent,  color='red');\n",
    "plt.title('Distribution of amount spent')\n",
    "plt.show()"
   ]
  },
  {
   "cell_type": "markdown",
   "metadata": {},
   "source": [
    "Both distributions of the amount spent and rewards earned are right skewed."
   ]
  },
  {
   "cell_type": "markdown",
   "metadata": {},
   "source": [
    "We need to create categorical columns for the age ranges and income ranges to be able to chart the differences of order completions across groups."
   ]
  },
  {
   "cell_type": "code",
   "execution_count": 26,
   "metadata": {},
   "outputs": [
    {
     "data": {
      "text/plain": [
       "(17000, 17000)"
      ]
     },
     "execution_count": 26,
     "metadata": {},
     "output_type": "execute_result"
    }
   ],
   "source": [
    "age_range = []\n",
    "for a in profile.age:\n",
    "    if a == 118:\n",
    "        age_range.append(np.nan)\n",
    "    elif a >= 18 and a <=24:\n",
    "        age_range.append('18-24')\n",
    "    elif a >= 25 and a <=34:\n",
    "        age_range.append('25-34')\n",
    "    elif a >= 35 and a <=44:\n",
    "        age_range.append('35-44')\n",
    "    elif a >= 45 and a <=54:\n",
    "        age_range.append('45-54')\n",
    "    elif a >= 55 and a <=64:\n",
    "        age_range.append('55-64')\n",
    "    elif a >= 65 and a <=74:\n",
    "        age_range.append('65-74')\n",
    "    elif a >= 75 and a < 117:\n",
    "        age_range.append('75+')\n",
    "\n",
    "age_range_df = []\n",
    "for a in df.age:\n",
    "    if a == 118:\n",
    "        age_range_df.append(np.nan)\n",
    "    elif a >= 18 and a <=24:\n",
    "        age_range_df.append('18-24')\n",
    "    elif a >= 25 and a <=34:\n",
    "        age_range_df.append('25-34')\n",
    "    elif a >= 35 and a <=44:\n",
    "        age_range_df.append('35-44')\n",
    "    elif a >= 45 and a <=54:\n",
    "        age_range_df.append('45-54')\n",
    "    elif a >= 55 and a <=64:\n",
    "        age_range_df.append('55-64')\n",
    "    elif a >= 65 and a <=74:\n",
    "        age_range_df.append('65-74')\n",
    "    elif a >= 75 and a < 117:\n",
    "        age_range_df.append('75+')\n",
    "len(age_range_df), len(df.age)\n",
    "        \n",
    "len(age_range), len(profile.age)"
   ]
  },
  {
   "cell_type": "code",
   "execution_count": 27,
   "metadata": {},
   "outputs": [
    {
     "name": "stdout",
     "output_type": "stream",
     "text": [
      "17000 17000\n"
     ]
    }
   ],
   "source": [
    "p_income_range = []\n",
    "for i in profile.income:\n",
    "    if i >=30000 and i <49000:\n",
    "        p_income_range.append('30k-49k')\n",
    "    elif i >=49000 and i <64000:\n",
    "        p_income_range.append('49k-64k')\n",
    "    elif i >=64000 and i <80000:\n",
    "        p_income_range.append('64k-80k')\n",
    "    elif i >=80000 and i <120000:\n",
    "        p_income_range.append('80k-120k')\n",
    "    else:\n",
    "        p_income_range.append(np.nan)\n",
    "print(len(p_income_range), len(profile.income))\n",
    "        \n",
    "df_income_range = []\n",
    "for i in df.income:\n",
    "    if i >=30000 and i <49000:\n",
    "        df_income_range.append('30k-49k')\n",
    "    elif i >=49000 and i <64000:\n",
    "        df_income_range.append('49k-64k')\n",
    "    elif i >=64000 and i <80000:\n",
    "        df_income_range.append('64k-80k')\n",
    "    elif i >=80000 and i <120000:\n",
    "        df_income_range.append('80k-120k')\n",
    "    else:\n",
    "        df_income_range.append(np.nan)"
   ]
  },
  {
   "cell_type": "code",
   "execution_count": 28,
   "metadata": {},
   "outputs": [],
   "source": [
    "# create columns in each dataframe for the age range and income range\n",
    "profile['age_range'] = age_range\n",
    "df['age_range'] = age_range_df\n",
    "profile['income_range'] = p_income_range\n",
    "df['income_range'] = df_income_range"
   ]
  },
  {
   "cell_type": "code",
   "execution_count": 29,
   "metadata": {},
   "outputs": [],
   "source": [
    "# Replace age 118 with nan value\n",
    "profile.age.replace(118, np.nan, inplace=True)\n",
    "df.age.replace(118, np.nan, inplace=True)"
   ]
  },
  {
   "cell_type": "code",
   "execution_count": 30,
   "metadata": {},
   "outputs": [],
   "source": [
    "# input nan in gender columns\n",
    "df.gender.fillna(value=pd.np.nan, inplace=True)\n",
    "profile.gender.fillna(value=pd.np.nan, inplace=True)"
   ]
  },
  {
   "cell_type": "code",
   "execution_count": 31,
   "metadata": {},
   "outputs": [],
   "source": [
    "# combine portfolio with the master dataframe\n",
    "df = df.merge(portfolio, how='left', left_on='offer_id', right_on='id')"
   ]
  },
  {
   "cell_type": "code",
   "execution_count": 32,
   "metadata": {},
   "outputs": [
    {
     "data": {
      "text/html": [
       "<div>\n",
       "<style scoped>\n",
       "    .dataframe tbody tr th:only-of-type {\n",
       "        vertical-align: middle;\n",
       "    }\n",
       "\n",
       "    .dataframe tbody tr th {\n",
       "        vertical-align: top;\n",
       "    }\n",
       "\n",
       "    .dataframe thead th {\n",
       "        text-align: right;\n",
       "    }\n",
       "</style>\n",
       "<table border=\"1\" class=\"dataframe\">\n",
       "  <thead>\n",
       "    <tr style=\"text-align: right;\">\n",
       "      <th></th>\n",
       "      <th>event</th>\n",
       "      <th>time</th>\n",
       "      <th>age</th>\n",
       "      <th>became_member_on</th>\n",
       "      <th>gender</th>\n",
       "      <th>income</th>\n",
       "      <th>user_id</th>\n",
       "      <th>amount</th>\n",
       "      <th>offer_id_x</th>\n",
       "      <th>reward_x</th>\n",
       "      <th>...</th>\n",
       "      <th>duration</th>\n",
       "      <th>id</th>\n",
       "      <th>offer_type</th>\n",
       "      <th>reward_y</th>\n",
       "      <th>channel_web</th>\n",
       "      <th>channel_email</th>\n",
       "      <th>channel_mobile</th>\n",
       "      <th>channel_social</th>\n",
       "      <th>duration_hours</th>\n",
       "      <th>offer_id_y</th>\n",
       "    </tr>\n",
       "  </thead>\n",
       "  <tbody>\n",
       "    <tr>\n",
       "      <th>0</th>\n",
       "      <td>offer received</td>\n",
       "      <td>0</td>\n",
       "      <td>75.0</td>\n",
       "      <td>20170509</td>\n",
       "      <td>F</td>\n",
       "      <td>100000.0</td>\n",
       "      <td>4</td>\n",
       "      <td>NaN</td>\n",
       "      <td>9b98b8c7a33c4b65b9aebfe6a799e6d9</td>\n",
       "      <td>NaN</td>\n",
       "      <td>...</td>\n",
       "      <td>7.0</td>\n",
       "      <td>9b98b8c7a33c4b65b9aebfe6a799e6d9</td>\n",
       "      <td>bogo</td>\n",
       "      <td>5.0</td>\n",
       "      <td>1.0</td>\n",
       "      <td>1.0</td>\n",
       "      <td>1.0</td>\n",
       "      <td>0.0</td>\n",
       "      <td>168.0</td>\n",
       "      <td>4.0</td>\n",
       "    </tr>\n",
       "    <tr>\n",
       "      <th>1</th>\n",
       "      <td>offer received</td>\n",
       "      <td>0</td>\n",
       "      <td>NaN</td>\n",
       "      <td>20170804</td>\n",
       "      <td>NaN</td>\n",
       "      <td>NaN</td>\n",
       "      <td>5</td>\n",
       "      <td>NaN</td>\n",
       "      <td>0b1e1539f2cc45b7b9fa7c272da2e1d7</td>\n",
       "      <td>NaN</td>\n",
       "      <td>...</td>\n",
       "      <td>10.0</td>\n",
       "      <td>0b1e1539f2cc45b7b9fa7c272da2e1d7</td>\n",
       "      <td>discount</td>\n",
       "      <td>5.0</td>\n",
       "      <td>1.0</td>\n",
       "      <td>1.0</td>\n",
       "      <td>0.0</td>\n",
       "      <td>0.0</td>\n",
       "      <td>240.0</td>\n",
       "      <td>5.0</td>\n",
       "    </tr>\n",
       "    <tr>\n",
       "      <th>2</th>\n",
       "      <td>offer received</td>\n",
       "      <td>0</td>\n",
       "      <td>68.0</td>\n",
       "      <td>20180426</td>\n",
       "      <td>M</td>\n",
       "      <td>70000.0</td>\n",
       "      <td>6</td>\n",
       "      <td>NaN</td>\n",
       "      <td>2906b810c7d4411798c6938adc9daaa5</td>\n",
       "      <td>NaN</td>\n",
       "      <td>...</td>\n",
       "      <td>7.0</td>\n",
       "      <td>2906b810c7d4411798c6938adc9daaa5</td>\n",
       "      <td>discount</td>\n",
       "      <td>2.0</td>\n",
       "      <td>1.0</td>\n",
       "      <td>1.0</td>\n",
       "      <td>1.0</td>\n",
       "      <td>0.0</td>\n",
       "      <td>168.0</td>\n",
       "      <td>10.0</td>\n",
       "    </tr>\n",
       "    <tr>\n",
       "      <th>3</th>\n",
       "      <td>offer received</td>\n",
       "      <td>0</td>\n",
       "      <td>NaN</td>\n",
       "      <td>20170925</td>\n",
       "      <td>NaN</td>\n",
       "      <td>NaN</td>\n",
       "      <td>7</td>\n",
       "      <td>NaN</td>\n",
       "      <td>fafdcd668e3743c1bb461111dcafc2a4</td>\n",
       "      <td>NaN</td>\n",
       "      <td>...</td>\n",
       "      <td>10.0</td>\n",
       "      <td>fafdcd668e3743c1bb461111dcafc2a4</td>\n",
       "      <td>discount</td>\n",
       "      <td>2.0</td>\n",
       "      <td>1.0</td>\n",
       "      <td>1.0</td>\n",
       "      <td>1.0</td>\n",
       "      <td>1.0</td>\n",
       "      <td>240.0</td>\n",
       "      <td>7.0</td>\n",
       "    </tr>\n",
       "    <tr>\n",
       "      <th>4</th>\n",
       "      <td>offer received</td>\n",
       "      <td>0</td>\n",
       "      <td>NaN</td>\n",
       "      <td>20171002</td>\n",
       "      <td>NaN</td>\n",
       "      <td>NaN</td>\n",
       "      <td>8</td>\n",
       "      <td>NaN</td>\n",
       "      <td>4d5c57ea9a6940dd891ad53e9dbe8da0</td>\n",
       "      <td>NaN</td>\n",
       "      <td>...</td>\n",
       "      <td>5.0</td>\n",
       "      <td>4d5c57ea9a6940dd891ad53e9dbe8da0</td>\n",
       "      <td>bogo</td>\n",
       "      <td>10.0</td>\n",
       "      <td>1.0</td>\n",
       "      <td>1.0</td>\n",
       "      <td>1.0</td>\n",
       "      <td>1.0</td>\n",
       "      <td>120.0</td>\n",
       "      <td>2.0</td>\n",
       "    </tr>\n",
       "  </tbody>\n",
       "</table>\n",
       "<p>5 rows × 23 columns</p>\n",
       "</div>"
      ],
      "text/plain": [
       "            event  time   age  became_member_on gender    income  user_id  \\\n",
       "0  offer received     0  75.0          20170509      F  100000.0        4   \n",
       "1  offer received     0   NaN          20170804    NaN       NaN        5   \n",
       "2  offer received     0  68.0          20180426      M   70000.0        6   \n",
       "3  offer received     0   NaN          20170925    NaN       NaN        7   \n",
       "4  offer received     0   NaN          20171002    NaN       NaN        8   \n",
       "\n",
       "   amount                        offer_id_x  reward_x     ...     duration  \\\n",
       "0     NaN  9b98b8c7a33c4b65b9aebfe6a799e6d9       NaN     ...          7.0   \n",
       "1     NaN  0b1e1539f2cc45b7b9fa7c272da2e1d7       NaN     ...         10.0   \n",
       "2     NaN  2906b810c7d4411798c6938adc9daaa5       NaN     ...          7.0   \n",
       "3     NaN  fafdcd668e3743c1bb461111dcafc2a4       NaN     ...         10.0   \n",
       "4     NaN  4d5c57ea9a6940dd891ad53e9dbe8da0       NaN     ...          5.0   \n",
       "\n",
       "                                 id  offer_type  reward_y channel_web  \\\n",
       "0  9b98b8c7a33c4b65b9aebfe6a799e6d9        bogo       5.0         1.0   \n",
       "1  0b1e1539f2cc45b7b9fa7c272da2e1d7    discount       5.0         1.0   \n",
       "2  2906b810c7d4411798c6938adc9daaa5    discount       2.0         1.0   \n",
       "3  fafdcd668e3743c1bb461111dcafc2a4    discount       2.0         1.0   \n",
       "4  4d5c57ea9a6940dd891ad53e9dbe8da0        bogo      10.0         1.0   \n",
       "\n",
       "  channel_email  channel_mobile  channel_social  duration_hours  offer_id_y  \n",
       "0           1.0             1.0             0.0           168.0         4.0  \n",
       "1           1.0             0.0             0.0           240.0         5.0  \n",
       "2           1.0             1.0             0.0           168.0        10.0  \n",
       "3           1.0             1.0             1.0           240.0         7.0  \n",
       "4           1.0             1.0             1.0           120.0         2.0  \n",
       "\n",
       "[5 rows x 23 columns]"
      ]
     },
     "execution_count": 32,
     "metadata": {},
     "output_type": "execute_result"
    }
   ],
   "source": [
    "# We can drop value, offer id and person columns from the master dataframe df\n",
    "df.head()\n"
   ]
  },
  {
   "cell_type": "code",
   "execution_count": 33,
   "metadata": {},
   "outputs": [],
   "source": [
    "# let's take a quick look at the number of offers completed across the two offer types\n",
    "offer_completed = df.query('event == \"offer completed\"')"
   ]
  },
  {
   "cell_type": "code",
   "execution_count": 34,
   "metadata": {},
   "outputs": [
    {
     "data": {
      "text/plain": [
       "discount    17910\n",
       "bogo        15669\n",
       "Name: offer_type, dtype: int64"
      ]
     },
     "execution_count": 34,
     "metadata": {},
     "output_type": "execute_result"
    }
   ],
   "source": [
    "# Take a rough look at the number of offers completed \n",
    "# from the two offers types we can get this information for at the moment (bogo and discount)\n",
    "offer_completed.offer_type.value_counts()"
   ]
  },
  {
   "cell_type": "code",
   "execution_count": 35,
   "metadata": {},
   "outputs": [
    {
     "name": "stdout",
     "output_type": "stream",
     "text": [
      "The total amount spent is $1775451.97. \n",
      "The total rewards earned is $164676.0. \n",
      "The total amount minus rewards is $1610775.97.\n"
     ]
    }
   ],
   "source": [
    "# Calculate the total amount spent and the total rewards earned\n",
    "reward_sum = offer_completed.reward_x.sum()\n",
    "transaction = df.query('event == \"transaction\"')\n",
    "transaction_sum = round(transaction.amount.sum(), 2)\n",
    "\n",
    "print(\"The total amount spent is ${}. \\nThe total rewards earned is ${}. \\nThe total amount minus rewards is ${}.\".format(transaction_sum, reward_sum, transaction_sum-reward_sum))\n"
   ]
  },
  {
   "cell_type": "code",
   "execution_count": 36,
   "metadata": {},
   "outputs": [],
   "source": [
    "# Let's clean the data to remove any user with NaN values for age, gender or income.\n",
    "df_clean = df[~df.age.isna()]"
   ]
  },
  {
   "cell_type": "code",
   "execution_count": 37,
   "metadata": {},
   "outputs": [
    {
     "data": {
      "text/plain": [
       "False    272762\n",
       "Name: gender, dtype: int64"
      ]
     },
     "execution_count": 37,
     "metadata": {},
     "output_type": "execute_result"
    }
   ],
   "source": [
    "df[~df.age.isna()].gender.isna().value_counts()"
   ]
  },
  {
   "cell_type": "code",
   "execution_count": 38,
   "metadata": {},
   "outputs": [
    {
     "data": {
      "text/plain": [
       "transaction        138953\n",
       "offer received      76277\n",
       "offer viewed        57725\n",
       "offer completed     33579\n",
       "Name: event, dtype: int64"
      ]
     },
     "execution_count": 38,
     "metadata": {},
     "output_type": "execute_result"
    }
   ],
   "source": [
    "df.event.value_counts()"
   ]
  },
  {
   "cell_type": "code",
   "execution_count": 39,
   "metadata": {},
   "outputs": [
    {
     "data": {
      "text/plain": [
       "M    155690\n",
       "F    113101\n",
       "O      3971\n",
       "Name: gender, dtype: int64"
      ]
     },
     "execution_count": 39,
     "metadata": {},
     "output_type": "execute_result"
    }
   ],
   "source": [
    "df_clean.gender.value_counts()\n"
   ]
  },
  {
   "cell_type": "code",
   "execution_count": 40,
   "metadata": {},
   "outputs": [
    {
     "data": {
      "text/plain": [
       "(income_range\n",
       " 30k-49k     0.109003\n",
       " 49k-64k     0.104614\n",
       " 64k-80k     0.091421\n",
       " 80k-120k    0.080501\n",
       " dtype: float64, age_range\n",
       " 18-24    0.092443\n",
       " 25-34    0.098441\n",
       " 35-44    0.092451\n",
       " 45-54    0.096112\n",
       " 55-64    0.091948\n",
       " 65-74    0.089017\n",
       " 75+      0.090120\n",
       " dtype: float64)"
      ]
     },
     "execution_count": 40,
     "metadata": {},
     "output_type": "execute_result"
    }
   ],
   "source": [
    "amount_spent_age = pd.DataFrame(df_clean.groupby(['age_range'])['amount'].sum())\n",
    "amount_spent_income = pd.DataFrame(df_clean.groupby('income_range')['amount'].sum())\n",
    "\n",
    "reward_earned_age = pd.DataFrame(df_clean.groupby(['age_range'])['reward_x'].sum())\n",
    "reward_earned_income = pd.DataFrame(df_clean.groupby('income_range')['reward_x'].sum())\n",
    "reward_earned_income.reward_x/amount_spent_income.amount,reward_earned_age.reward_x/amount_spent_age.amount "
   ]
  },
  {
   "cell_type": "code",
   "execution_count": 41,
   "metadata": {},
   "outputs": [
    {
     "data": {
      "image/png": "[encoded data removed]",
      "text/plain": [
       "<matplotlib.figure.Figure at 0x7f3ab80cf3c8>"
      ]
     },
     "metadata": {
      "needs_background": "light"
     },
     "output_type": "display_data"
    }
   ],
   "source": [
    "ind = np.arange(len(amount_spent_income.amount))  # the x locations for the groups\n",
    "width = 0.35\n",
    "fig, ax = plt.subplots();\n",
    "rects1 = ax.bar(ind - width/2, amount_spent_income.amount, width,\n",
    "                label='Amount spent')\n",
    "rects2 = ax.bar(ind + width/2, reward_earned_income.reward_x, width,\n",
    "                label='Rewards earned')\n",
    "\n",
    "ax.set_ylabel('')\n",
    "ax.set_title('')\n",
    "ax.set_xticks(ind)\n",
    "ax.set_xticklabels(amount_spent_income.index)\n",
    "ax.legend();"
   ]
  },
  {
   "cell_type": "code",
   "execution_count": 42,
   "metadata": {},
   "outputs": [
    {
     "data": {
      "image/png": "[encoded data removed]",
      "text/plain": [
       "<matplotlib.figure.Figure at 0x7f3ab807f908>"
      ]
     },
     "metadata": {
      "needs_background": "light"
     },
     "output_type": "display_data"
    }
   ],
   "source": [
    "ind = np.arange(len(amount_spent_age.amount))  # the x locations for the groups\n",
    "width = 0.35\n",
    "fig, ax = plt.subplots();\n",
    "rects1 = ax.bar(ind - width/2, amount_spent_age.amount, width,\n",
    "                label='Amount spent')\n",
    "rects2 = ax.bar(ind + width/2, reward_earned_age.reward_x, width,\n",
    "                label='Rewards earned')\n",
    "\n",
    "ax.set_ylabel('')\n",
    "ax.set_title('')\n",
    "ax.set_xticks(ind)\n",
    "ax.set_xticklabels(amount_spent_age.index)\n",
    "ax.legend();"
   ]
  },
  {
   "cell_type": "markdown",
   "metadata": {},
   "source": [
    "### Let's take a quick look at the distribution of the number of offers received by users."
   ]
  },
  {
   "cell_type": "code",
   "execution_count": 43,
   "metadata": {},
   "outputs": [
    {
     "data": {
      "text/plain": [
       "10    2074\n",
       "8     2069\n",
       "9     2041\n",
       "11    1843\n",
       "12    1664\n",
       "7     1430\n",
       "6     1215\n",
       "13    1181\n",
       "14    1058\n",
       "5      657\n",
       "15     615\n",
       "4      340\n",
       "16     311\n",
       "17     219\n",
       "3      151\n",
       "2       63\n",
       "18      59\n",
       "0        6\n",
       "1        4\n",
       "Name: offer_id_y, dtype: int64"
      ]
     },
     "execution_count": 43,
     "metadata": {},
     "output_type": "execute_result"
    }
   ],
   "source": [
    "# look at the value_counts per user\n",
    "num_offers_received = df.groupby(['user_id'])['offer_id_y'].count().sort_values(ascending=False)\n",
    "num_offers_received.value_counts()"
   ]
  },
  {
   "cell_type": "code",
   "execution_count": 44,
   "metadata": {},
   "outputs": [
    {
     "data": {
      "text/plain": [
       "Text(0,0.5,'Number of users')"
      ]
     },
     "execution_count": 44,
     "metadata": {},
     "output_type": "execute_result"
    },
    {
     "data": {
      "image/png": "[encoded data removed]",
      "text/plain": [
       "<matplotlib.figure.Figure at 0x7f3ab80a6ef0>"
      ]
     },
     "metadata": {
      "needs_background": "light"
     },
     "output_type": "display_data"
    }
   ],
   "source": [
    "# plot distribution of number of offers received by users\n",
    "bins=19\n",
    "plt.hist(num_offers_received, color='blue', bins=range(19), align='right', edgecolor=\"k\");\n",
    "plt.xticks(np.arange(19))\n",
    "plt.title('Distribution of number of offers received')\n",
    "plt.xlabel('Number of offers received');\n",
    "plt.ylabel('Number of users')"
   ]
  },
  {
   "cell_type": "markdown",
   "metadata": {},
   "source": [
    "###### It looks like a pretty normal distribution with the majority of users receiving 6 to 13 offers."
   ]
  },
  {
   "cell_type": "code",
   "execution_count": 45,
   "metadata": {},
   "outputs": [
    {
     "name": "stdout",
     "output_type": "stream",
     "text": [
      "<class 'pandas.core.frame.DataFrame'>\n",
      "Int64Index: 306534 entries, 0 to 306533\n",
      "Data columns (total 23 columns):\n",
      "event               306534 non-null object\n",
      "time                306534 non-null int64\n",
      "age                 272762 non-null float64\n",
      "became_member_on    306534 non-null int64\n",
      "gender              272762 non-null object\n",
      "income              272762 non-null float64\n",
      "user_id             306534 non-null int64\n",
      "amount              138953 non-null float64\n",
      "offer_id_x          167581 non-null object\n",
      "reward_x            33579 non-null float64\n",
      "age_range           272762 non-null object\n",
      "income_range        272529 non-null object\n",
      "difficulty          167581 non-null float64\n",
      "duration            167581 non-null float64\n",
      "id                  167581 non-null object\n",
      "offer_type          167581 non-null object\n",
      "reward_y            167581 non-null float64\n",
      "channel_web         167581 non-null float64\n",
      "channel_email       167581 non-null float64\n",
      "channel_mobile      167581 non-null float64\n",
      "channel_social      167581 non-null float64\n",
      "duration_hours      167581 non-null float64\n",
      "offer_id_y          167581 non-null float64\n",
      "dtypes: float64(13), int64(3), object(7)\n",
      "memory usage: 56.1+ MB\n"
     ]
    }
   ],
   "source": [
    "df.info()"
   ]
  },
  {
   "cell_type": "code",
   "execution_count": null,
   "metadata": {},
   "outputs": [],
   "source": []
  },
  {
   "cell_type": "code",
   "execution_count": null,
   "metadata": {},
   "outputs": [],
   "source": []
  },
  {
   "cell_type": "code",
   "execution_count": null,
   "metadata": {},
   "outputs": [],
   "source": []
  },
  {
   "cell_type": "markdown",
   "metadata": {},
   "source": [
    "HAve to turn became_member_on to a datetime object"
   ]
  },
  {
   "cell_type": "markdown",
   "metadata": {},
   "source": [
    "## Tracking offer completions\n",
    "\n",
    "I need to create a function that tracks when an offer is received and if it is viewed before the offer is completed.\n",
    "\n",
    "I will need to also track offer completions for informational offers by tracking if there are transactions after the offer is viewed and before the offer end time."
   ]
  },
  {
   "cell_type": "markdown",
   "metadata": {},
   "source": [
    "I need to add a check to see when offer received and determine from that time whether an offer was completed (not by the viewed time for both functions). \n",
    "\n",
    "I need to make sure the offer was viewed prior to the transaction in order to count the transactions. So time from received and after a viewed time."
   ]
  },
  {
   "cell_type": "code",
   "execution_count": 46,
   "metadata": {},
   "outputs": [],
   "source": [
    "def info_offer_completions(user_id, df=df_clean, offer_id=3):\n",
    "    '''\n",
    "    inputs:\n",
    "    user_id = id of user to see if they have completed the offer\n",
    "    offer_id = which offer to use to see if an offer was completed\n",
    "    \n",
    "    outpus:\n",
    "    user_offers_completed = int of how many offers were completed for that offer id\n",
    "    '''\n",
    "    start = timer()\n",
    "    user_df = df[df.user_id==user_id]\n",
    "    offer_df = user_df[user_df.offer_id_y==offer_id]\n",
    "    \n",
    "    trans = user_df[user_df.event=='transaction']\n",
    "    \n",
    "    user_offers_completed = []\n",
    "\n",
    "    offer_received = len(offer_df[offer_df.event=='offer received'].index)\n",
    "    offer_received_idx = offer_df[offer_df.event=='offer viewed'].index\n",
    "    info_viewed = len(offer_df[offer_df.event=='offer viewed'].index)\n",
    "    info_viewed_idx = offer_df[offer_df.event=='offer viewed'].index\n",
    "    \n",
    "    if offer_received == 0:\n",
    "        user_offers_completed.append(-1)\n",
    "    elif info_viewed == 0:\n",
    "        user_offers_completed.append(0)\n",
    "    else:\n",
    "        completed_offers_sum = 0\n",
    "        for i in info_viewed_idx:\n",
    "            \n",
    "            time_viewed = offer_df.loc[i].time\n",
    "            time_received = offer_df[offer_df.event=='offer received'].query('time < @time_viewed').max().time\n",
    "            \n",
    "            offer_expires = time_received + offer_df.loc[i].duration_hours\n",
    "            \n",
    "            completed_trans = trans[(trans['time'] >= time_viewed) & (trans['time'] <= offer_expires)]\n",
    "            \n",
    "            completed_trans = completed_trans.shape[0]\n",
    "            \n",
    "            completed_offers_sum += completed_trans\n",
    "            \n",
    "        user_offers_completed.append(completed_offers_sum)\n",
    "    \n",
    "    \n",
    "    end = timer()\n",
    "    \n",
    "    return user_offers_completed"
   ]
  },
  {
   "cell_type": "code",
   "execution_count": 47,
   "metadata": {},
   "outputs": [],
   "source": [
    "def user_offer_completions(user_id, df=df_clean):\n",
    "    '''\n",
    "    Inputs:\n",
    "    user_id = id of user to see if they have completed the offer\n",
    "    df = dataframe to use to check for offer completions\n",
    "    \n",
    "    Outputs:\n",
    "    df = returns a dataframe for that user with a column for each offer \n",
    "         and the number of offer completions for each offer. If an offer \n",
    "         was never received the user will receive a -1 value.\n",
    "    \n",
    "    '''\n",
    "    \n",
    "    start = timer()\n",
    "    user_df = df_clean[df_clean.user_id==user_id]\n",
    "    offer_ids = []\n",
    "    user_offers = []\n",
    "    \n",
    "    for i in range(1,11): \n",
    "        \n",
    "        offer_id = i\n",
    "        offer_ids.append(offer_id)\n",
    "        user_offers_completed = []\n",
    "        \n",
    "        if offer_id not in [3,8]:\n",
    "            df_copy = user_df[user_df.offer_id_y==i]\n",
    "            \n",
    "            num_times_offer_received = len(df_copy.query('event==\"offer received\"').index)\n",
    "            \n",
    "            num_times_offer_viewed = len(df_copy.query('event==\"offer viewed\"').index)\n",
    "            \n",
    "            num_times_offer_completed = len(df_copy.query('event==\"offer completed\"').index)\n",
    "\n",
    "            if num_times_offer_received == 0:\n",
    "                user_offers_completed.append(-1)\n",
    "                \n",
    "            elif df_copy.shape[0] == 0:\n",
    "                user_offers_completed.append(0)\n",
    "                p\n",
    "            elif df_copy.shape[0] != 0:\n",
    "                if num_times_offer_completed == 0:\n",
    "                    user_offers_completed.append(0)\n",
    "                    \n",
    "                elif num_times_offer_viewed == 0:\n",
    "                    user_offers_completed.append(0)\n",
    "                    \n",
    "                elif num_times_offer_completed == num_times_offer_viewed:\n",
    "                    user_offers_completed.append(num_times_offer_completed) \n",
    "                    \n",
    "                elif num_times_offer_completed < num_times_offer_viewed:\n",
    "                    user_offers_completed.append(num_times_offer_completed)\n",
    "                    \n",
    "                elif num_times_offer_completed > num_times_offer_viewed:\n",
    "                    user_offers_completed.append(num_times_offer_viewed)\n",
    "                    \n",
    "            user_offers.append(user_offers_completed)\n",
    "            \n",
    "        else:\n",
    "            user_offers.append(info_offer_completions(user_id=user_id, df=df_clean, offer_id=offer_id))\n",
    "        \n",
    "    \n",
    "    df = pd.DataFrame(offer_ids, columns=['offer_id']) \n",
    "    \n",
    "    df_completions = pd.DataFrame(user_offers, columns=['offer_completions'])\n",
    "    \n",
    "    df = df.join(df_completions)\n",
    "    \n",
    "    df = pd.pivot_table(df, values=['offer_completions'], columns=['offer_id'])\n",
    "    \n",
    "    df.rename(index={'offer_completions':user_id},inplace=True)\n",
    "    \n",
    "    end = timer()\n",
    "    #print(end2-start)\n",
    "    return df"
   ]
  },
  {
   "cell_type": "code",
   "execution_count": 48,
   "metadata": {},
   "outputs": [],
   "source": [
    "# create user list to use to feed to the below function\n",
    "user_list = list(set(df_clean.user_id))\n"
   ]
  },
  {
   "cell_type": "code",
   "execution_count": 49,
   "metadata": {},
   "outputs": [],
   "source": [
    "def user_offer_completion_matrix(df=df_clean, user_list=user_list):\n",
    "    '''\n",
    "    Takes the user list and dataframe to create a user offer completion matrix.\n",
    "    The matrix contains user ids that the offers they completed or never received.\n",
    "    \n",
    "    It will take ~22 minutes to complete for the ~15k users\n",
    "    \n",
    "    '''\n",
    "    empty_df = user_offer_completions(user_list[0])\n",
    "    empty_df = empty_df.drop(empty_df.index[0])\n",
    "    \n",
    "    for user_id in user_list:\n",
    "        \n",
    "        start=timer()\n",
    "        user = user_offer_completions(user_id)\n",
    "        empty_df = empty_df.append(user)\n",
    "        \n",
    "    return empty_df\n",
    "        \n",
    "    "
   ]
  },
  {
   "cell_type": "code",
   "execution_count": 50,
   "metadata": {},
   "outputs": [
    {
     "data": {
      "text/html": [
       "<div>\n",
       "<style scoped>\n",
       "    .dataframe tbody tr th:only-of-type {\n",
       "        vertical-align: middle;\n",
       "    }\n",
       "\n",
       "    .dataframe tbody tr th {\n",
       "        vertical-align: top;\n",
       "    }\n",
       "\n",
       "    .dataframe thead th {\n",
       "        text-align: right;\n",
       "    }\n",
       "</style>\n",
       "<table border=\"1\" class=\"dataframe\">\n",
       "  <thead>\n",
       "    <tr style=\"text-align: right;\">\n",
       "      <th>offer_id</th>\n",
       "      <th>1</th>\n",
       "      <th>2</th>\n",
       "      <th>3</th>\n",
       "      <th>4</th>\n",
       "      <th>5</th>\n",
       "      <th>6</th>\n",
       "      <th>7</th>\n",
       "      <th>8</th>\n",
       "      <th>9</th>\n",
       "      <th>10</th>\n",
       "    </tr>\n",
       "  </thead>\n",
       "  <tbody>\n",
       "    <tr>\n",
       "      <th>3</th>\n",
       "      <td>-1</td>\n",
       "      <td>-1</td>\n",
       "      <td>-1</td>\n",
       "      <td>-1</td>\n",
       "      <td>-1</td>\n",
       "      <td>-1</td>\n",
       "      <td>-1</td>\n",
       "      <td>-1</td>\n",
       "      <td>-1</td>\n",
       "      <td>-1</td>\n",
       "    </tr>\n",
       "    <tr>\n",
       "      <th>9</th>\n",
       "      <td>-1</td>\n",
       "      <td>-1</td>\n",
       "      <td>-1</td>\n",
       "      <td>1</td>\n",
       "      <td>-1</td>\n",
       "      <td>-1</td>\n",
       "      <td>1</td>\n",
       "      <td>-1</td>\n",
       "      <td>2</td>\n",
       "      <td>1</td>\n",
       "    </tr>\n",
       "    <tr>\n",
       "      <th>23</th>\n",
       "      <td>-1</td>\n",
       "      <td>0</td>\n",
       "      <td>4</td>\n",
       "      <td>-1</td>\n",
       "      <td>-1</td>\n",
       "      <td>-1</td>\n",
       "      <td>1</td>\n",
       "      <td>1</td>\n",
       "      <td>-1</td>\n",
       "      <td>-1</td>\n",
       "    </tr>\n",
       "    <tr>\n",
       "      <th>3109</th>\n",
       "      <td>-1</td>\n",
       "      <td>0</td>\n",
       "      <td>-1</td>\n",
       "      <td>2</td>\n",
       "      <td>0</td>\n",
       "      <td>-1</td>\n",
       "      <td>1</td>\n",
       "      <td>-1</td>\n",
       "      <td>1</td>\n",
       "      <td>-1</td>\n",
       "    </tr>\n",
       "    <tr>\n",
       "      <th>2</th>\n",
       "      <td>-1</td>\n",
       "      <td>-1</td>\n",
       "      <td>0</td>\n",
       "      <td>0</td>\n",
       "      <td>-1</td>\n",
       "      <td>-1</td>\n",
       "      <td>-1</td>\n",
       "      <td>-1</td>\n",
       "      <td>-1</td>\n",
       "      <td>-1</td>\n",
       "    </tr>\n",
       "    <tr>\n",
       "      <th>4</th>\n",
       "      <td>1</td>\n",
       "      <td>-1</td>\n",
       "      <td>-1</td>\n",
       "      <td>1</td>\n",
       "      <td>-1</td>\n",
       "      <td>-1</td>\n",
       "      <td>-1</td>\n",
       "      <td>2</td>\n",
       "      <td>1</td>\n",
       "      <td>-1</td>\n",
       "    </tr>\n",
       "    <tr>\n",
       "      <th>6</th>\n",
       "      <td>-1</td>\n",
       "      <td>-1</td>\n",
       "      <td>0</td>\n",
       "      <td>1</td>\n",
       "      <td>-1</td>\n",
       "      <td>-1</td>\n",
       "      <td>1</td>\n",
       "      <td>-1</td>\n",
       "      <td>-1</td>\n",
       "      <td>0</td>\n",
       "    </tr>\n",
       "    <tr>\n",
       "      <th>16960</th>\n",
       "      <td>1</td>\n",
       "      <td>-1</td>\n",
       "      <td>-1</td>\n",
       "      <td>-1</td>\n",
       "      <td>0</td>\n",
       "      <td>-1</td>\n",
       "      <td>-1</td>\n",
       "      <td>0</td>\n",
       "      <td>-1</td>\n",
       "      <td>-1</td>\n",
       "    </tr>\n",
       "    <tr>\n",
       "      <th>25</th>\n",
       "      <td>-1</td>\n",
       "      <td>1</td>\n",
       "      <td>1</td>\n",
       "      <td>-1</td>\n",
       "      <td>-1</td>\n",
       "      <td>-1</td>\n",
       "      <td>2</td>\n",
       "      <td>-1</td>\n",
       "      <td>-1</td>\n",
       "      <td>-1</td>\n",
       "    </tr>\n",
       "    <tr>\n",
       "      <th>29</th>\n",
       "      <td>-1</td>\n",
       "      <td>0</td>\n",
       "      <td>0</td>\n",
       "      <td>-1</td>\n",
       "      <td>0</td>\n",
       "      <td>-1</td>\n",
       "      <td>-1</td>\n",
       "      <td>-1</td>\n",
       "      <td>-1</td>\n",
       "      <td>-1</td>\n",
       "    </tr>\n",
       "  </tbody>\n",
       "</table>\n",
       "</div>"
      ],
      "text/plain": [
       "offer_id  1   2   3   4   5   6   7   8   9   10\n",
       "3         -1  -1  -1  -1  -1  -1  -1  -1  -1  -1\n",
       "9         -1  -1  -1   1  -1  -1   1  -1   2   1\n",
       "23        -1   0   4  -1  -1  -1   1   1  -1  -1\n",
       "3109      -1   0  -1   2   0  -1   1  -1   1  -1\n",
       "2         -1  -1   0   0  -1  -1  -1  -1  -1  -1\n",
       "4          1  -1  -1   1  -1  -1  -1   2   1  -1\n",
       "6         -1  -1   0   1  -1  -1   1  -1  -1   0\n",
       "16960      1  -1  -1  -1   0  -1  -1   0  -1  -1\n",
       "25        -1   1   1  -1  -1  -1   2  -1  -1  -1\n",
       "29        -1   0   0  -1   0  -1  -1  -1  -1  -1"
      ]
     },
     "execution_count": 50,
     "metadata": {},
     "output_type": "execute_result"
    }
   ],
   "source": [
    "user_offer_completion_matrix(user_list=[3, 9, 23, 3109, 2, 4, 6, 16960, 25, 29])"
   ]
  },
  {
   "cell_type": "code",
   "execution_count": 55,
   "metadata": {},
   "outputs": [],
   "source": [
    "user_offer_matrix = user_offer_completion_matrix()\n"
   ]
  },
  {
   "cell_type": "code",
   "execution_count": 56,
   "metadata": {},
   "outputs": [
    {
     "data": {
      "text/html": [
       "<div>\n",
       "<style scoped>\n",
       "    .dataframe tbody tr th:only-of-type {\n",
       "        vertical-align: middle;\n",
       "    }\n",
       "\n",
       "    .dataframe tbody tr th {\n",
       "        vertical-align: top;\n",
       "    }\n",
       "\n",
       "    .dataframe thead th {\n",
       "        text-align: right;\n",
       "    }\n",
       "</style>\n",
       "<table border=\"1\" class=\"dataframe\">\n",
       "  <thead>\n",
       "    <tr style=\"text-align: right;\">\n",
       "      <th>offer_id</th>\n",
       "      <th>1</th>\n",
       "      <th>2</th>\n",
       "      <th>3</th>\n",
       "      <th>4</th>\n",
       "      <th>5</th>\n",
       "      <th>6</th>\n",
       "      <th>7</th>\n",
       "      <th>8</th>\n",
       "      <th>9</th>\n",
       "      <th>10</th>\n",
       "    </tr>\n",
       "  </thead>\n",
       "  <tbody>\n",
       "    <tr>\n",
       "      <th>2</th>\n",
       "      <td>-1</td>\n",
       "      <td>-1</td>\n",
       "      <td>0</td>\n",
       "      <td>0</td>\n",
       "      <td>-1</td>\n",
       "      <td>-1</td>\n",
       "      <td>-1</td>\n",
       "      <td>-1</td>\n",
       "      <td>-1</td>\n",
       "      <td>-1</td>\n",
       "    </tr>\n",
       "    <tr>\n",
       "      <th>4</th>\n",
       "      <td>1</td>\n",
       "      <td>-1</td>\n",
       "      <td>-1</td>\n",
       "      <td>1</td>\n",
       "      <td>-1</td>\n",
       "      <td>-1</td>\n",
       "      <td>-1</td>\n",
       "      <td>2</td>\n",
       "      <td>1</td>\n",
       "      <td>-1</td>\n",
       "    </tr>\n",
       "    <tr>\n",
       "      <th>6</th>\n",
       "      <td>-1</td>\n",
       "      <td>-1</td>\n",
       "      <td>0</td>\n",
       "      <td>1</td>\n",
       "      <td>-1</td>\n",
       "      <td>-1</td>\n",
       "      <td>1</td>\n",
       "      <td>-1</td>\n",
       "      <td>-1</td>\n",
       "      <td>0</td>\n",
       "    </tr>\n",
       "    <tr>\n",
       "      <th>9</th>\n",
       "      <td>-1</td>\n",
       "      <td>-1</td>\n",
       "      <td>-1</td>\n",
       "      <td>1</td>\n",
       "      <td>-1</td>\n",
       "      <td>-1</td>\n",
       "      <td>1</td>\n",
       "      <td>-1</td>\n",
       "      <td>2</td>\n",
       "      <td>1</td>\n",
       "    </tr>\n",
       "    <tr>\n",
       "      <th>13</th>\n",
       "      <td>-1</td>\n",
       "      <td>-1</td>\n",
       "      <td>0</td>\n",
       "      <td>-1</td>\n",
       "      <td>-1</td>\n",
       "      <td>0</td>\n",
       "      <td>1</td>\n",
       "      <td>-1</td>\n",
       "      <td>-1</td>\n",
       "      <td>-1</td>\n",
       "    </tr>\n",
       "  </tbody>\n",
       "</table>\n",
       "</div>"
      ],
      "text/plain": [
       "offer_id  1   2   3   4   5   6   7   8   9   10\n",
       "2         -1  -1   0   0  -1  -1  -1  -1  -1  -1\n",
       "4          1  -1  -1   1  -1  -1  -1   2   1  -1\n",
       "6         -1  -1   0   1  -1  -1   1  -1  -1   0\n",
       "9         -1  -1  -1   1  -1  -1   1  -1   2   1\n",
       "13        -1  -1   0  -1  -1   0   1  -1  -1  -1"
      ]
     },
     "execution_count": 56,
     "metadata": {},
     "output_type": "execute_result"
    }
   ],
   "source": [
    "user_offer_matrix.head()"
   ]
  },
  {
   "cell_type": "code",
   "execution_count": 57,
   "metadata": {},
   "outputs": [],
   "source": [
    "# Save the matrix to csv so that I can pull the data \n",
    "# without waiting 22 minutes to run each time I need to access the data\n",
    "user_offer_matrix.to_csv('user_offer_completion_matrix.csv')"
   ]
  },
  {
   "cell_type": "code",
   "execution_count": null,
   "metadata": {},
   "outputs": [],
   "source": []
  },
  {
   "cell_type": "markdown",
   "metadata": {},
   "source": [
    "# Data Analysis\n",
    "\n",
    "Now let's begin analyzing the data"
   ]
  },
  {
   "cell_type": "code",
   "execution_count": 51,
   "metadata": {},
   "outputs": [],
   "source": [
    "user_offer_matrix = pd.read_csv('user_offer_completion_matrix.csv')"
   ]
  },
  {
   "cell_type": "code",
   "execution_count": 52,
   "metadata": {},
   "outputs": [],
   "source": [
    "# Convert dataframe column names\n",
    "user_offer_matrix.rename(columns={\"Unnamed: 0\": \"user_id\", '1':'offer_0', '2':'offer_1', '3':'offer_2', '4':'offer_3', '5':'offer_4', '6':'offer_5', '7':'offer_6', '8':'offer_7' , '9':'offer_8', '10':'offer_9'}, inplace=True)\n"
   ]
  },
  {
   "cell_type": "code",
   "execution_count": 56,
   "metadata": {},
   "outputs": [],
   "source": [
    "user_offer_matrix.replace(to_replace=-1, value=np.nan, inplace=True)"
   ]
  },
  {
   "cell_type": "code",
   "execution_count": 57,
   "metadata": {},
   "outputs": [],
   "source": [
    "user_offer_matrix.set_index(keys='user_id', inplace=True)"
   ]
  },
  {
   "cell_type": "code",
   "execution_count": 58,
   "metadata": {},
   "outputs": [
    {
     "data": {
      "text/html": [
       "<div>\n",
       "<style scoped>\n",
       "    .dataframe tbody tr th:only-of-type {\n",
       "        vertical-align: middle;\n",
       "    }\n",
       "\n",
       "    .dataframe tbody tr th {\n",
       "        vertical-align: top;\n",
       "    }\n",
       "\n",
       "    .dataframe thead th {\n",
       "        text-align: right;\n",
       "    }\n",
       "</style>\n",
       "<table border=\"1\" class=\"dataframe\">\n",
       "  <thead>\n",
       "    <tr style=\"text-align: right;\">\n",
       "      <th></th>\n",
       "      <th>offer_0</th>\n",
       "      <th>offer_1</th>\n",
       "      <th>offer_2</th>\n",
       "      <th>offer_3</th>\n",
       "      <th>offer_4</th>\n",
       "      <th>offer_5</th>\n",
       "      <th>offer_6</th>\n",
       "      <th>offer_7</th>\n",
       "      <th>offer_8</th>\n",
       "      <th>offer_9</th>\n",
       "    </tr>\n",
       "    <tr>\n",
       "      <th>user_id</th>\n",
       "      <th></th>\n",
       "      <th></th>\n",
       "      <th></th>\n",
       "      <th></th>\n",
       "      <th></th>\n",
       "      <th></th>\n",
       "      <th></th>\n",
       "      <th></th>\n",
       "      <th></th>\n",
       "      <th></th>\n",
       "    </tr>\n",
       "  </thead>\n",
       "  <tbody>\n",
       "    <tr>\n",
       "      <th>2</th>\n",
       "      <td>NaN</td>\n",
       "      <td>NaN</td>\n",
       "      <td>0.0</td>\n",
       "      <td>0.0</td>\n",
       "      <td>NaN</td>\n",
       "      <td>NaN</td>\n",
       "      <td>NaN</td>\n",
       "      <td>NaN</td>\n",
       "      <td>NaN</td>\n",
       "      <td>NaN</td>\n",
       "    </tr>\n",
       "    <tr>\n",
       "      <th>4</th>\n",
       "      <td>1.0</td>\n",
       "      <td>NaN</td>\n",
       "      <td>NaN</td>\n",
       "      <td>1.0</td>\n",
       "      <td>NaN</td>\n",
       "      <td>NaN</td>\n",
       "      <td>NaN</td>\n",
       "      <td>2.0</td>\n",
       "      <td>1.0</td>\n",
       "      <td>NaN</td>\n",
       "    </tr>\n",
       "    <tr>\n",
       "      <th>6</th>\n",
       "      <td>NaN</td>\n",
       "      <td>NaN</td>\n",
       "      <td>0.0</td>\n",
       "      <td>1.0</td>\n",
       "      <td>NaN</td>\n",
       "      <td>NaN</td>\n",
       "      <td>1.0</td>\n",
       "      <td>NaN</td>\n",
       "      <td>NaN</td>\n",
       "      <td>0.0</td>\n",
       "    </tr>\n",
       "    <tr>\n",
       "      <th>9</th>\n",
       "      <td>NaN</td>\n",
       "      <td>NaN</td>\n",
       "      <td>NaN</td>\n",
       "      <td>1.0</td>\n",
       "      <td>NaN</td>\n",
       "      <td>NaN</td>\n",
       "      <td>1.0</td>\n",
       "      <td>NaN</td>\n",
       "      <td>2.0</td>\n",
       "      <td>1.0</td>\n",
       "    </tr>\n",
       "    <tr>\n",
       "      <th>13</th>\n",
       "      <td>NaN</td>\n",
       "      <td>NaN</td>\n",
       "      <td>0.0</td>\n",
       "      <td>NaN</td>\n",
       "      <td>NaN</td>\n",
       "      <td>0.0</td>\n",
       "      <td>1.0</td>\n",
       "      <td>NaN</td>\n",
       "      <td>NaN</td>\n",
       "      <td>NaN</td>\n",
       "    </tr>\n",
       "  </tbody>\n",
       "</table>\n",
       "</div>"
      ],
      "text/plain": [
       "         offer_0  offer_1  offer_2  offer_3  offer_4  offer_5  offer_6  \\\n",
       "user_id                                                                  \n",
       "2            NaN      NaN      0.0      0.0      NaN      NaN      NaN   \n",
       "4            1.0      NaN      NaN      1.0      NaN      NaN      NaN   \n",
       "6            NaN      NaN      0.0      1.0      NaN      NaN      1.0   \n",
       "9            NaN      NaN      NaN      1.0      NaN      NaN      1.0   \n",
       "13           NaN      NaN      0.0      NaN      NaN      0.0      1.0   \n",
       "\n",
       "         offer_7  offer_8  offer_9  \n",
       "user_id                             \n",
       "2            NaN      NaN      NaN  \n",
       "4            2.0      1.0      NaN  \n",
       "6            NaN      NaN      0.0  \n",
       "9            NaN      2.0      1.0  \n",
       "13           NaN      NaN      NaN  "
      ]
     },
     "execution_count": 58,
     "metadata": {},
     "output_type": "execute_result"
    }
   ],
   "source": [
    "user_offer_matrix.head()"
   ]
  },
  {
   "cell_type": "code",
   "execution_count": null,
   "metadata": {},
   "outputs": [],
   "source": []
  },
  {
   "cell_type": "code",
   "execution_count": 59,
   "metadata": {},
   "outputs": [],
   "source": [
    "# Let's create a new dataframe offer_df with the demographic data\n",
    "offer_df = user_offer_matrix.join(profile.set_index('user_id'), on='user_id')\n"
   ]
  },
  {
   "cell_type": "code",
   "execution_count": 60,
   "metadata": {},
   "outputs": [
    {
     "data": {
      "text/html": [
       "<div>\n",
       "<style scoped>\n",
       "    .dataframe tbody tr th:only-of-type {\n",
       "        vertical-align: middle;\n",
       "    }\n",
       "\n",
       "    .dataframe tbody tr th {\n",
       "        vertical-align: top;\n",
       "    }\n",
       "\n",
       "    .dataframe thead th {\n",
       "        text-align: right;\n",
       "    }\n",
       "</style>\n",
       "<table border=\"1\" class=\"dataframe\">\n",
       "  <thead>\n",
       "    <tr style=\"text-align: right;\">\n",
       "      <th></th>\n",
       "      <th>offer_0</th>\n",
       "      <th>offer_1</th>\n",
       "      <th>offer_2</th>\n",
       "      <th>offer_3</th>\n",
       "      <th>offer_4</th>\n",
       "      <th>offer_5</th>\n",
       "      <th>offer_6</th>\n",
       "      <th>offer_7</th>\n",
       "      <th>offer_8</th>\n",
       "      <th>offer_9</th>\n",
       "      <th>age</th>\n",
       "      <th>became_member_on</th>\n",
       "      <th>gender</th>\n",
       "      <th>id</th>\n",
       "      <th>income</th>\n",
       "      <th>age_range</th>\n",
       "      <th>income_range</th>\n",
       "    </tr>\n",
       "    <tr>\n",
       "      <th>user_id</th>\n",
       "      <th></th>\n",
       "      <th></th>\n",
       "      <th></th>\n",
       "      <th></th>\n",
       "      <th></th>\n",
       "      <th></th>\n",
       "      <th></th>\n",
       "      <th></th>\n",
       "      <th></th>\n",
       "      <th></th>\n",
       "      <th></th>\n",
       "      <th></th>\n",
       "      <th></th>\n",
       "      <th></th>\n",
       "      <th></th>\n",
       "      <th></th>\n",
       "      <th></th>\n",
       "    </tr>\n",
       "  </thead>\n",
       "  <tbody>\n",
       "    <tr>\n",
       "      <th>2</th>\n",
       "      <td>NaN</td>\n",
       "      <td>NaN</td>\n",
       "      <td>0.0</td>\n",
       "      <td>0.0</td>\n",
       "      <td>NaN</td>\n",
       "      <td>NaN</td>\n",
       "      <td>NaN</td>\n",
       "      <td>NaN</td>\n",
       "      <td>NaN</td>\n",
       "      <td>NaN</td>\n",
       "      <td>55.0</td>\n",
       "      <td>20170715</td>\n",
       "      <td>F</td>\n",
       "      <td>0610b486422d4921ae7d2bf64640c50b</td>\n",
       "      <td>112000.0</td>\n",
       "      <td>55-64</td>\n",
       "      <td>80k-120k</td>\n",
       "    </tr>\n",
       "    <tr>\n",
       "      <th>4</th>\n",
       "      <td>1.0</td>\n",
       "      <td>NaN</td>\n",
       "      <td>NaN</td>\n",
       "      <td>1.0</td>\n",
       "      <td>NaN</td>\n",
       "      <td>NaN</td>\n",
       "      <td>NaN</td>\n",
       "      <td>2.0</td>\n",
       "      <td>1.0</td>\n",
       "      <td>NaN</td>\n",
       "      <td>75.0</td>\n",
       "      <td>20170509</td>\n",
       "      <td>F</td>\n",
       "      <td>78afa995795e4d85b5d9ceeca43f5fef</td>\n",
       "      <td>100000.0</td>\n",
       "      <td>75+</td>\n",
       "      <td>80k-120k</td>\n",
       "    </tr>\n",
       "    <tr>\n",
       "      <th>6</th>\n",
       "      <td>NaN</td>\n",
       "      <td>NaN</td>\n",
       "      <td>0.0</td>\n",
       "      <td>1.0</td>\n",
       "      <td>NaN</td>\n",
       "      <td>NaN</td>\n",
       "      <td>1.0</td>\n",
       "      <td>NaN</td>\n",
       "      <td>NaN</td>\n",
       "      <td>0.0</td>\n",
       "      <td>68.0</td>\n",
       "      <td>20180426</td>\n",
       "      <td>M</td>\n",
       "      <td>e2127556f4f64592b11af22de27a7932</td>\n",
       "      <td>70000.0</td>\n",
       "      <td>65-74</td>\n",
       "      <td>64k-80k</td>\n",
       "    </tr>\n",
       "    <tr>\n",
       "      <th>9</th>\n",
       "      <td>NaN</td>\n",
       "      <td>NaN</td>\n",
       "      <td>NaN</td>\n",
       "      <td>1.0</td>\n",
       "      <td>NaN</td>\n",
       "      <td>NaN</td>\n",
       "      <td>1.0</td>\n",
       "      <td>NaN</td>\n",
       "      <td>2.0</td>\n",
       "      <td>1.0</td>\n",
       "      <td>65.0</td>\n",
       "      <td>20180209</td>\n",
       "      <td>M</td>\n",
       "      <td>389bc3fa690240e798340f5a15918d5c</td>\n",
       "      <td>53000.0</td>\n",
       "      <td>65-74</td>\n",
       "      <td>49k-64k</td>\n",
       "    </tr>\n",
       "    <tr>\n",
       "      <th>13</th>\n",
       "      <td>NaN</td>\n",
       "      <td>NaN</td>\n",
       "      <td>0.0</td>\n",
       "      <td>NaN</td>\n",
       "      <td>NaN</td>\n",
       "      <td>0.0</td>\n",
       "      <td>1.0</td>\n",
       "      <td>NaN</td>\n",
       "      <td>NaN</td>\n",
       "      <td>NaN</td>\n",
       "      <td>58.0</td>\n",
       "      <td>20171111</td>\n",
       "      <td>M</td>\n",
       "      <td>2eeac8d8feae4a8cad5a6af0499a211d</td>\n",
       "      <td>51000.0</td>\n",
       "      <td>55-64</td>\n",
       "      <td>49k-64k</td>\n",
       "    </tr>\n",
       "  </tbody>\n",
       "</table>\n",
       "</div>"
      ],
      "text/plain": [
       "         offer_0  offer_1  offer_2  offer_3  offer_4  offer_5  offer_6  \\\n",
       "user_id                                                                  \n",
       "2            NaN      NaN      0.0      0.0      NaN      NaN      NaN   \n",
       "4            1.0      NaN      NaN      1.0      NaN      NaN      NaN   \n",
       "6            NaN      NaN      0.0      1.0      NaN      NaN      1.0   \n",
       "9            NaN      NaN      NaN      1.0      NaN      NaN      1.0   \n",
       "13           NaN      NaN      0.0      NaN      NaN      0.0      1.0   \n",
       "\n",
       "         offer_7  offer_8  offer_9   age  became_member_on gender  \\\n",
       "user_id                                                             \n",
       "2            NaN      NaN      NaN  55.0          20170715      F   \n",
       "4            2.0      1.0      NaN  75.0          20170509      F   \n",
       "6            NaN      NaN      0.0  68.0          20180426      M   \n",
       "9            NaN      2.0      1.0  65.0          20180209      M   \n",
       "13           NaN      NaN      NaN  58.0          20171111      M   \n",
       "\n",
       "                                       id    income age_range income_range  \n",
       "user_id                                                                     \n",
       "2        0610b486422d4921ae7d2bf64640c50b  112000.0     55-64     80k-120k  \n",
       "4        78afa995795e4d85b5d9ceeca43f5fef  100000.0       75+     80k-120k  \n",
       "6        e2127556f4f64592b11af22de27a7932   70000.0     65-74      64k-80k  \n",
       "9        389bc3fa690240e798340f5a15918d5c   53000.0     65-74      49k-64k  \n",
       "13       2eeac8d8feae4a8cad5a6af0499a211d   51000.0     55-64      49k-64k  "
      ]
     },
     "execution_count": 60,
     "metadata": {},
     "output_type": "execute_result"
    }
   ],
   "source": [
    "offer_df.head()"
   ]
  },
  {
   "cell_type": "code",
   "execution_count": 61,
   "metadata": {},
   "outputs": [],
   "source": [
    "def demographic_completion_info(column='gender', kind='F', df=offer_df, df_clean=df_clean):\n",
    "    '''\n",
    "    Create a dataframe splice from a column and a value in that column (e.g. gender, F)\n",
    "    \n",
    "    Inputs:\n",
    "    column = the column to use to filter the dataframe\n",
    "    kind = the column value to use to filter the data by\n",
    "    df = the offer_df by default\n",
    "    df_clean =  df_clean by default\n",
    "    \n",
    "    Outputs:\n",
    "    df = returns a dataframe for the specified set of data\n",
    "    offer_completions = the completed numbers by each offer\n",
    "    total_offers_received = the total number of offers received for all offers by that demographic\n",
    "    completion_pct = the offer completion rate for the specific demographic\n",
    "    \n",
    "    '''\n",
    "    \n",
    "    df = df[df[column]==kind]\n",
    "    offer_completions = df.iloc[:,:10].sum()\n",
    "    total_offers_received = df_clean[df_clean[column]==kind].query('event==\"offer received\"').groupby('offer_id_y')['event'].count().values\n",
    "    \n",
    "    completion_pct = offer_completions/total_offers_received\n",
    "    \n",
    "    return df, offer_completions, total_offers_received, completion_pct\n",
    "    "
   ]
  },
  {
   "cell_type": "code",
   "execution_count": 62,
   "metadata": {},
   "outputs": [],
   "source": [
    "# create completion rate data so we can plot the results for gender\n",
    "female_df, f_offer_completions, f_total_received, f_complete_pct = demographic_completion_info(column='gender', kind='F')\n",
    "male_df, m_offer_completions, m_total_received, m_complete_pct = demographic_completion_info(column='gender', kind='M')\n",
    "other_df, o_offer_completions, o_total_received, o_complete_pct = demographic_completion_info(column='gender', kind='O')\n",
    "\n"
   ]
  },
  {
   "cell_type": "code",
   "execution_count": 63,
   "metadata": {},
   "outputs": [
    {
     "data": {
      "image/png": "[encoded data removed]",
      "text/plain": [
       "<matplotlib.figure.Figure at 0x7f3ab8022cc0>"
      ]
     },
     "metadata": {
      "needs_background": "light"
     },
     "output_type": "display_data"
    }
   ],
   "source": [
    "# plot completion rates across the genders\n",
    "plt.figure(figsize=(8,4));\n",
    "plt.plot(f_complete_pct, label='Female');\n",
    "plt.plot(m_complete_pct, label='Male');\n",
    "plt.plot(o_complete_pct, label='Other');\n",
    "plt.axhline(y=0.5, color='gray', linestyle='--');\n",
    "plt.axhline(y=0.7, color='green', linestyle='dotted');\n",
    "plt.legend();\n",
    "plt.ylabel('Offer completion percentage');\n",
    "plt.title('Offer completion rates by gender');\n"
   ]
  },
  {
   "cell_type": "markdown",
   "metadata": {},
   "source": [
    "The most successful offers across all genders are two discount offers 5 and 6. The other two discounts don't perform nearly as well. One of the main differences between the successful and not succesful discount offers are the channels in which they are promoted. Both low performing discounts don't promote through social. The other offer that performs poorly compared to the other offers also not promote through social is the information offer id 2.\n",
    "\n",
    "One recommendation would be to promote all those offers through social as it apparently affects completion rates.\n"
   ]
  },
  {
   "cell_type": "code",
   "execution_count": 64,
   "metadata": {},
   "outputs": [
    {
     "data": {
      "image/png": "[encoded data removed]",
      "text/plain": [
       "<matplotlib.figure.Figure at 0x7f3ab7fe2f60>"
      ]
     },
     "metadata": {
      "needs_background": "light"
     },
     "output_type": "display_data"
    }
   ],
   "source": [
    "# plot distribution of users across age ranges\n",
    "plt.figure(figsize=(8,4));\n",
    "plt.hist(offer_df['age_range'], align='left', bins=range(8), rwidth=.5);\n",
    "plt.xlabel('Age ranges');\n",
    "plt.ylabel('User counts');\n",
    "plt.title('Distribution of users across age ranges');"
   ]
  },
  {
   "cell_type": "code",
   "execution_count": 65,
   "metadata": {},
   "outputs": [
    {
     "data": {
      "text/plain": [
       "55-64    3421\n",
       "45-54    3013\n",
       "65-74    2457\n",
       "35-44    1869\n",
       "75+      1809\n",
       "25-34    1380\n",
       "18-24     876\n",
       "Name: age_range, dtype: int64"
      ]
     },
     "execution_count": 65,
     "metadata": {},
     "output_type": "execute_result"
    }
   ],
   "source": [
    "# Value counts per age range\n",
    "offer_df.age_range.value_counts()"
   ]
  },
  {
   "cell_type": "code",
   "execution_count": 66,
   "metadata": {},
   "outputs": [],
   "source": [
    "# Create set of data for age ranges\n",
    "df_18to24, offer_completions_18to24, total_received_18to24, complete_pct_18to24 = demographic_completion_info(column='age_range', kind='18-24')\n",
    "df_25to34, offer_completions_25to34, total_received_25to34, complete_pct_25to34 = demographic_completion_info(column='age_range', kind='25-34')\n",
    "df_35to44, offer_completions_35to44, total_received_35to44, complete_pct_35to44 = demographic_completion_info(column='age_range', kind='35-44')\n",
    "df_45to54, offer_completions_45to54, total_received_45to54, complete_pct_45to54 = demographic_completion_info(column='age_range', kind='45-54')\n",
    "df_55to64, offer_completions_55to64, total_received_55to64, complete_pct_55to64 = demographic_completion_info(column='age_range', kind='55-64')\n",
    "df_65to74, offer_completions_65to74, total_received_65to74, complete_pct_65to74 = demographic_completion_info(column='age_range', kind='65-74')\n",
    "df_75plus, offer_completions_75plus, total_received_75plus, complete_pct_75plus = demographic_completion_info(column='age_range', kind='75+')\n",
    "\n",
    "\n"
   ]
  },
  {
   "cell_type": "code",
   "execution_count": 67,
   "metadata": {},
   "outputs": [
    {
     "data": {
      "image/png": "[encoded data removed]",
      "text/plain": [
       "<matplotlib.figure.Figure at 0x7f3ab7f9e630>"
      ]
     },
     "metadata": {
      "needs_background": "light"
     },
     "output_type": "display_data"
    }
   ],
   "source": [
    "# plot the completion percentage across age ranges\n",
    "plt.figure(figsize=(8,6));\n",
    "plt.plot(complete_pct_18to24, label='18-24');\n",
    "plt.plot(complete_pct_25to34, label='25-34');\n",
    "plt.plot(complete_pct_35to44, label='35-44');\n",
    "plt.plot(complete_pct_45to54, label='45-54');\n",
    "plt.plot(complete_pct_55to64, label='55-64');\n",
    "plt.plot(complete_pct_65to74, label='65-74');\n",
    "plt.plot(complete_pct_75plus, label='75+');\n",
    "plt.axhline(y=0.5, color='gray', linestyle='--');\n",
    "plt.axhline(y=0.7, color='green', linestyle='dotted');\n",
    "plt.legend();\n",
    "plt.ylabel('Offer completion percentage');\n",
    "plt.title('Offer completion rates by age');"
   ]
  },
  {
   "cell_type": "markdown",
   "metadata": {},
   "source": [
    "It appears the same trend holds true when looking at the age ranges of the users. There are some new insights from this view of the completion rates. \n",
    "\n",
    "The informational offer 7 performs amazingly well in the 18-24 and 25-34 age range. While the other informational offer without the social channel performs the worst in that same age range."
   ]
  },
  {
   "cell_type": "code",
   "execution_count": 68,
   "metadata": {},
   "outputs": [],
   "source": [
    "# Take a look at the distribution of age range across income ranges\n",
    "income_range_by_age = offer_df.groupby(['age_range', 'income_range'])['income_range'].count()\n",
    "income_range_totals = offer_df.groupby('income_range')['income_range'].count()\n",
    "age_income_dist = round(income_range_by_age/income_range_totals, 2)"
   ]
  },
  {
   "cell_type": "code",
   "execution_count": 69,
   "metadata": {},
   "outputs": [
    {
     "data": {
      "text/plain": [
       "age_range  income_range\n",
       "18-24      30k-49k         0.12\n",
       "           49k-64k         0.07\n",
       "           64k-80k         0.04\n",
       "25-34      30k-49k         0.17\n",
       "           49k-64k         0.12\n",
       "           64k-80k         0.09\n",
       "35-44      30k-49k         0.16\n",
       "           49k-64k         0.16\n",
       "           64k-80k         0.13\n",
       "           80k-120k        0.06\n",
       "45-54      30k-49k         0.17\n",
       "           49k-64k         0.20\n",
       "           64k-80k         0.21\n",
       "           80k-120k        0.23\n",
       "55-64      30k-49k         0.17\n",
       "           49k-64k         0.20\n",
       "           64k-80k         0.24\n",
       "           80k-120k        0.32\n",
       "65-74      30k-49k         0.13\n",
       "           49k-64k         0.15\n",
       "           64k-80k         0.17\n",
       "           80k-120k        0.22\n",
       "75+        30k-49k         0.08\n",
       "           49k-64k         0.10\n",
       "           64k-80k         0.13\n",
       "           80k-120k        0.17\n",
       "Name: income_range, dtype: float64"
      ]
     },
     "execution_count": 69,
     "metadata": {},
     "output_type": "execute_result"
    }
   ],
   "source": [
    "age_income_dist"
   ]
  },
  {
   "cell_type": "code",
   "execution_count": 70,
   "metadata": {},
   "outputs": [],
   "source": [
    "df_30to49, offer_completions_30to49, total_received_30to49, complete_pct_30to49 = demographic_completion_info(column='income_range', kind='30k-49k')\n",
    "df_49to64, offer_completions_49to64, total_received_49to64, complete_pct_49to64 = demographic_completion_info(column='income_range', kind='49k-64k')\n",
    "df_64to80, offer_completions_64to80, total_received_64to80, complete_pct_64to80 = demographic_completion_info(column='income_range', kind='64k-80k')\n",
    "df_80to120, offer_completions_80to120, total_received_80to120, complete_pct_80to120 = demographic_completion_info(column='income_range', kind='80k-120k')"
   ]
  },
  {
   "cell_type": "code",
   "execution_count": 71,
   "metadata": {},
   "outputs": [
    {
     "data": {
      "image/png": "[encoded data removed]",
      "text/plain": [
       "<matplotlib.figure.Figure at 0x7f3ab7f6d2e8>"
      ]
     },
     "metadata": {
      "needs_background": "light"
     },
     "output_type": "display_data"
    }
   ],
   "source": [
    "plt.figure(figsize=(8,4));\n",
    "plt.plot(complete_pct_30to49, label='30k-49k');\n",
    "plt.plot(complete_pct_49to64, label='49k-64k');\n",
    "plt.plot(complete_pct_64to80, label='64k-80k');\n",
    "plt.plot(complete_pct_80to120, label='80k-120k');\n",
    "plt.axhline(y=0.5, color='gray', linestyle='--');\n",
    "plt.axhline(y=0.7, color='green', linestyle='dotted');\n",
    "plt.legend();\n",
    "plt.ylabel('Offer completion percentage');\n",
    "plt.title('Offer completion rates by income range');"
   ]
  },
  {
   "cell_type": "markdown",
   "metadata": {},
   "source": [
    "### Breakdown of Female offer completion rates by demographic"
   ]
  },
  {
   "cell_type": "code",
   "execution_count": 82,
   "metadata": {},
   "outputs": [],
   "source": [
    "female_df_clean = df_clean.query('gender == \"F\"')"
   ]
  },
  {
   "cell_type": "code",
   "execution_count": 84,
   "metadata": {},
   "outputs": [],
   "source": [
    "fdf_30to49, foffer_completions_30to49, ftotal_received_30to49, fcomplete_pct_30to49 = demographic_completion_info(column='income_range', kind='30k-49k', df=female_df, df_clean=female_df_clean)\n",
    "fdf_49to64, foffer_completions_49to64, ftotal_received_49to64, fcomplete_pct_49to64 = demographic_completion_info(column='income_range', kind='49k-64k', df=female_df, df_clean=female_df_clean)\n",
    "fdf_64to80, foffer_completions_64to80, ftotal_received_64to80, fcomplete_pct_64to80 = demographic_completion_info(column='income_range', kind='64k-80k', df=female_df, df_clean=female_df_clean)\n",
    "fdf_80to120, foffer_completions_80to120, ftotal_received_80to120, fcomplete_pct_80to120 = demographic_completion_info(column='income_range', kind='80k-120k', df=female_df, df_clean=female_df_clean)\n"
   ]
  },
  {
   "cell_type": "code",
   "execution_count": 131,
   "metadata": {
    "scrolled": true
   },
   "outputs": [
    {
     "data": {
      "image/png": "[encoded data removed]",
      "text/plain": [
       "<matplotlib.figure.Figure at 0x7f3ab7d98860>"
      ]
     },
     "metadata": {
      "needs_background": "light"
     },
     "output_type": "display_data"
    }
   ],
   "source": [
    "plt.figure(figsize=(8,4));\n",
    "plt.plot(f_complete_pct, label='Total comp pct', color='k', linestyle='--');\n",
    "plt.plot(fcomplete_pct_30to49, label='30k-49k');\n",
    "plt.plot(fcomplete_pct_49to64, label='49k-64k');\n",
    "plt.plot(fcomplete_pct_64to80, label='64k-80k');\n",
    "plt.plot(fcomplete_pct_80to120, label='80k-120k');\n",
    "plt.axhline(y=0.5, color='gray', linestyle='--');\n",
    "plt.axhline(y=0.7, color='green', linestyle='dotted');\n",
    "plt.legend();\n",
    "plt.ylabel('Offer completion percentage by females');\n",
    "plt.title('Female users offer completion rates by income range');"
   ]
  },
  {
   "cell_type": "code",
   "execution_count": 126,
   "metadata": {},
   "outputs": [
    {
     "data": {
      "text/html": [
       "<div>\n",
       "<style scoped>\n",
       "    .dataframe tbody tr th:only-of-type {\n",
       "        vertical-align: middle;\n",
       "    }\n",
       "\n",
       "    .dataframe tbody tr th {\n",
       "        vertical-align: top;\n",
       "    }\n",
       "\n",
       "    .dataframe thead th {\n",
       "        text-align: right;\n",
       "    }\n",
       "</style>\n",
       "<table border=\"1\" class=\"dataframe\">\n",
       "  <thead>\n",
       "    <tr style=\"text-align: right;\">\n",
       "      <th></th>\n",
       "      <th>difficulty</th>\n",
       "      <th>duration</th>\n",
       "      <th>id</th>\n",
       "      <th>offer_type</th>\n",
       "      <th>reward</th>\n",
       "      <th>channel_web</th>\n",
       "      <th>channel_email</th>\n",
       "      <th>channel_mobile</th>\n",
       "      <th>channel_social</th>\n",
       "      <th>duration_hours</th>\n",
       "      <th>offer_id</th>\n",
       "    </tr>\n",
       "  </thead>\n",
       "  <tbody>\n",
       "    <tr>\n",
       "      <th>0</th>\n",
       "      <td>10</td>\n",
       "      <td>7</td>\n",
       "      <td>ae264e3637204a6fb9bb56bc8210ddfd</td>\n",
       "      <td>bogo</td>\n",
       "      <td>10</td>\n",
       "      <td>0</td>\n",
       "      <td>1</td>\n",
       "      <td>1</td>\n",
       "      <td>1</td>\n",
       "      <td>168</td>\n",
       "      <td>1</td>\n",
       "    </tr>\n",
       "    <tr>\n",
       "      <th>1</th>\n",
       "      <td>10</td>\n",
       "      <td>5</td>\n",
       "      <td>4d5c57ea9a6940dd891ad53e9dbe8da0</td>\n",
       "      <td>bogo</td>\n",
       "      <td>10</td>\n",
       "      <td>1</td>\n",
       "      <td>1</td>\n",
       "      <td>1</td>\n",
       "      <td>1</td>\n",
       "      <td>120</td>\n",
       "      <td>2</td>\n",
       "    </tr>\n",
       "    <tr>\n",
       "      <th>2</th>\n",
       "      <td>0</td>\n",
       "      <td>4</td>\n",
       "      <td>3f207df678b143eea3cee63160fa8bed</td>\n",
       "      <td>informational</td>\n",
       "      <td>0</td>\n",
       "      <td>1</td>\n",
       "      <td>1</td>\n",
       "      <td>1</td>\n",
       "      <td>0</td>\n",
       "      <td>96</td>\n",
       "      <td>3</td>\n",
       "    </tr>\n",
       "    <tr>\n",
       "      <th>3</th>\n",
       "      <td>5</td>\n",
       "      <td>7</td>\n",
       "      <td>9b98b8c7a33c4b65b9aebfe6a799e6d9</td>\n",
       "      <td>bogo</td>\n",
       "      <td>5</td>\n",
       "      <td>1</td>\n",
       "      <td>1</td>\n",
       "      <td>1</td>\n",
       "      <td>0</td>\n",
       "      <td>168</td>\n",
       "      <td>4</td>\n",
       "    </tr>\n",
       "    <tr>\n",
       "      <th>4</th>\n",
       "      <td>20</td>\n",
       "      <td>10</td>\n",
       "      <td>0b1e1539f2cc45b7b9fa7c272da2e1d7</td>\n",
       "      <td>discount</td>\n",
       "      <td>5</td>\n",
       "      <td>1</td>\n",
       "      <td>1</td>\n",
       "      <td>0</td>\n",
       "      <td>0</td>\n",
       "      <td>240</td>\n",
       "      <td>5</td>\n",
       "    </tr>\n",
       "    <tr>\n",
       "      <th>5</th>\n",
       "      <td>7</td>\n",
       "      <td>7</td>\n",
       "      <td>2298d6c36e964ae4a3e7e9706d1fb8c2</td>\n",
       "      <td>discount</td>\n",
       "      <td>3</td>\n",
       "      <td>1</td>\n",
       "      <td>1</td>\n",
       "      <td>1</td>\n",
       "      <td>1</td>\n",
       "      <td>168</td>\n",
       "      <td>6</td>\n",
       "    </tr>\n",
       "    <tr>\n",
       "      <th>6</th>\n",
       "      <td>10</td>\n",
       "      <td>10</td>\n",
       "      <td>fafdcd668e3743c1bb461111dcafc2a4</td>\n",
       "      <td>discount</td>\n",
       "      <td>2</td>\n",
       "      <td>1</td>\n",
       "      <td>1</td>\n",
       "      <td>1</td>\n",
       "      <td>1</td>\n",
       "      <td>240</td>\n",
       "      <td>7</td>\n",
       "    </tr>\n",
       "    <tr>\n",
       "      <th>7</th>\n",
       "      <td>0</td>\n",
       "      <td>3</td>\n",
       "      <td>5a8bc65990b245e5a138643cd4eb9837</td>\n",
       "      <td>informational</td>\n",
       "      <td>0</td>\n",
       "      <td>0</td>\n",
       "      <td>1</td>\n",
       "      <td>1</td>\n",
       "      <td>1</td>\n",
       "      <td>72</td>\n",
       "      <td>8</td>\n",
       "    </tr>\n",
       "    <tr>\n",
       "      <th>8</th>\n",
       "      <td>5</td>\n",
       "      <td>5</td>\n",
       "      <td>f19421c1d4aa40978ebb69ca19b0e20d</td>\n",
       "      <td>bogo</td>\n",
       "      <td>5</td>\n",
       "      <td>1</td>\n",
       "      <td>1</td>\n",
       "      <td>1</td>\n",
       "      <td>1</td>\n",
       "      <td>120</td>\n",
       "      <td>9</td>\n",
       "    </tr>\n",
       "    <tr>\n",
       "      <th>9</th>\n",
       "      <td>10</td>\n",
       "      <td>7</td>\n",
       "      <td>2906b810c7d4411798c6938adc9daaa5</td>\n",
       "      <td>discount</td>\n",
       "      <td>2</td>\n",
       "      <td>1</td>\n",
       "      <td>1</td>\n",
       "      <td>1</td>\n",
       "      <td>0</td>\n",
       "      <td>168</td>\n",
       "      <td>10</td>\n",
       "    </tr>\n",
       "  </tbody>\n",
       "</table>\n",
       "</div>"
      ],
      "text/plain": [
       "   difficulty  duration                                id     offer_type  \\\n",
       "0          10         7  ae264e3637204a6fb9bb56bc8210ddfd           bogo   \n",
       "1          10         5  4d5c57ea9a6940dd891ad53e9dbe8da0           bogo   \n",
       "2           0         4  3f207df678b143eea3cee63160fa8bed  informational   \n",
       "3           5         7  9b98b8c7a33c4b65b9aebfe6a799e6d9           bogo   \n",
       "4          20        10  0b1e1539f2cc45b7b9fa7c272da2e1d7       discount   \n",
       "5           7         7  2298d6c36e964ae4a3e7e9706d1fb8c2       discount   \n",
       "6          10        10  fafdcd668e3743c1bb461111dcafc2a4       discount   \n",
       "7           0         3  5a8bc65990b245e5a138643cd4eb9837  informational   \n",
       "8           5         5  f19421c1d4aa40978ebb69ca19b0e20d           bogo   \n",
       "9          10         7  2906b810c7d4411798c6938adc9daaa5       discount   \n",
       "\n",
       "   reward  channel_web  channel_email  channel_mobile  channel_social  \\\n",
       "0      10            0              1               1               1   \n",
       "1      10            1              1               1               1   \n",
       "2       0            1              1               1               0   \n",
       "3       5            1              1               1               0   \n",
       "4       5            1              1               0               0   \n",
       "5       3            1              1               1               1   \n",
       "6       2            1              1               1               1   \n",
       "7       0            0              1               1               1   \n",
       "8       5            1              1               1               1   \n",
       "9       2            1              1               1               0   \n",
       "\n",
       "   duration_hours  offer_id  \n",
       "0             168         1  \n",
       "1             120         2  \n",
       "2              96         3  \n",
       "3             168         4  \n",
       "4             240         5  \n",
       "5             168         6  \n",
       "6             240         7  \n",
       "7              72         8  \n",
       "8             120         9  \n",
       "9             168        10  "
      ]
     },
     "execution_count": 126,
     "metadata": {},
     "output_type": "execute_result"
    }
   ],
   "source": [
    "portfolio"
   ]
  },
  {
   "cell_type": "markdown",
   "metadata": {},
   "source": [
    "Taking a closer look at just Female completion rates across income ranges, we can see that the high earners complete more offers for offer 0, 1, 8, 9 than users with lower incomes. Lower income female users react strongest to offer 7 where high income earners have a very low completion percentage. Once again we can see that the lack of sending the offer through the social channel affects each user completion rate across the 4 offers: 2, 3, 4, and 9."
   ]
  },
  {
   "cell_type": "code",
   "execution_count": 86,
   "metadata": {},
   "outputs": [],
   "source": [
    "fdf_18to24, foffer_completions_18to24, ftotal_received_18to24, fcomplete_pct_18to24 = demographic_completion_info(column='age_range', kind='18-24', df=female_df, df_clean=female_df_clean)\n",
    "fdf_25to34, foffer_completions_25to34, ftotal_received_25to34, fcomplete_pct_25to34 = demographic_completion_info(column='age_range', kind='25-34', df=female_df, df_clean=female_df_clean)\n",
    "fdf_35to44, foffer_completions_35to44, ftotal_received_35to44, fcomplete_pct_35to44 = demographic_completion_info(column='age_range', kind='35-44', df=female_df, df_clean=female_df_clean)\n",
    "fdf_45to54, foffer_completions_45to54, ftotal_received_45to54, fcomplete_pct_45to54 = demographic_completion_info(column='age_range', kind='45-54', df=female_df, df_clean=female_df_clean)\n",
    "fdf_55to64, foffer_completions_55to64, ftotal_received_55to64, fcomplete_pct_55to64 = demographic_completion_info(column='age_range', kind='55-64', df=female_df, df_clean=female_df_clean)\n",
    "fdf_65to74, foffer_completions_65to74, ftotal_received_65to74, fcomplete_pct_65to74 = demographic_completion_info(column='age_range', kind='65-74', df=female_df, df_clean=female_df_clean)\n",
    "fdf_75plus, foffer_completions_75plus, ftotal_received_75plus, fcomplete_pct_75plus = demographic_completion_info(column='age_range', kind='75+', df=female_df, df_clean=female_df_clean)\n"
   ]
  },
  {
   "cell_type": "code",
   "execution_count": 132,
   "metadata": {},
   "outputs": [
    {
     "data": {
      "image/png": "[encoded data removed]",
      "text/plain": [
       "<matplotlib.figure.Figure at 0x7f3ab80cf240>"
      ]
     },
     "metadata": {
      "needs_background": "light"
     },
     "output_type": "display_data"
    }
   ],
   "source": [
    "# plot the completion percentage across age ranges\n",
    "plt.figure(figsize=(8,6));\n",
    "plt.plot(fcomplete_pct_18to24, label='18-24');\n",
    "plt.plot(fcomplete_pct_25to34, label='25-34');\n",
    "plt.plot(fcomplete_pct_35to44, label='35-44');\n",
    "plt.plot(fcomplete_pct_45to54, label='45-54');\n",
    "plt.plot(fcomplete_pct_55to64, label='55-64');\n",
    "plt.plot(fcomplete_pct_65to74, label='65-74');\n",
    "plt.plot(fcomplete_pct_75plus, label='75+');\n",
    "plt.axhline(y=0.5, color='gray', linestyle='--');\n",
    "plt.axhline(y=0.7, color='green', linestyle='dotted');\n",
    "plt.legend();\n",
    "plt.ylabel('Offer completion percentage');\n",
    "plt.title('Female users offer completion rates by age');"
   ]
  },
  {
   "cell_type": "markdown",
   "metadata": {},
   "source": [
    "Lookin at the female data across age ranges does tell a slightly different story about completion rate performance. As we saw in the previous chart offer 2, 3 and 9 were some of the lower performing offers with each having a less than 50% completion rate across the income ranges except for the 49-64k income range for offer 2. \n",
    "\n",
    "What we see here is that the 35-44 age group is the only one that exceeds the 50% completion rate for offers 2, 3 and 9. If our goal was to send offers to the demographics who will have over a 50% completion rate for offers then we would target sending the worst performing offers to just that demographic ff women in the age range of 35-44."
   ]
  },
  {
   "cell_type": "markdown",
   "metadata": {},
   "source": [
    "### Breakdown of male offer completion rates by demographic\n"
   ]
  },
  {
   "cell_type": "code",
   "execution_count": 91,
   "metadata": {},
   "outputs": [],
   "source": [
    "male_df_clean = df_clean.query('gender == \"M\"')"
   ]
  },
  {
   "cell_type": "code",
   "execution_count": 92,
   "metadata": {},
   "outputs": [],
   "source": [
    "mdf_30to49, moffer_completions_30to49, mtotal_received_30to49, mcomplete_pct_30to49 = demographic_completion_info(column='income_range', kind='30k-49k', df=male_df, df_clean=male_df_clean)\n",
    "mdf_49to64, moffer_completions_49to64, mtotal_received_49to64, mcomplete_pct_49to64 = demographic_completion_info(column='income_range', kind='49k-64k', df=male_df, df_clean=male_df_clean)\n",
    "mdf_64to80, moffer_completions_64to80, mtotal_received_64to80, mcomplete_pct_64to80 = demographic_completion_info(column='income_range', kind='64k-80k', df=male_df, df_clean=male_df_clean)\n",
    "mdf_80to120, moffer_completions_80to120, mtotal_received_80to120, mcomplete_pct_80to120 = demographic_completion_info(column='income_range', kind='80k-120k', df=male_df, df_clean=male_df_clean)\n"
   ]
  },
  {
   "cell_type": "code",
   "execution_count": 128,
   "metadata": {
    "scrolled": true
   },
   "outputs": [
    {
     "data": {
      "image/png": "[encoded data removed]",
      "text/plain": [
       "<matplotlib.figure.Figure at 0x7f3ab7d3bc88>"
      ]
     },
     "metadata": {
      "needs_background": "light"
     },
     "output_type": "display_data"
    }
   ],
   "source": [
    "plt.figure(figsize=(8,4));\n",
    "plt.plot(mcomplete_pct_30to49, label='30k-49k');\n",
    "plt.plot(mcomplete_pct_49to64, label='49k-64k');\n",
    "plt.plot(mcomplete_pct_64to80, label='64k-80k');\n",
    "plt.plot(mcomplete_pct_80to120, label='80k-120k');\n",
    "plt.axhline(y=0.5, color='gray', linestyle='--');\n",
    "plt.axhline(y=0.7, color='green', linestyle='dotted');\n",
    "plt.legend();\n",
    "plt.ylabel('Offer completion percentage by females');\n",
    "plt.title('Male user offer completion rates by income range');"
   ]
  },
  {
   "cell_type": "markdown",
   "metadata": {},
   "source": [
    "Male users in the high income range (80-120k) have the highest completion rates across almost all of the offers except for offer 7. Offer 7 also had the lowest performance amongst female users in that same income range. I would avoid sending offer 7 to either male or female groups as it had the lowest completion percentage across both groups. \n",
    "\n",
    "Low income (30k-49k) male users only have high completion rates for offers 5-7 and I would restrict sending any of the other offers to that age range."
   ]
  },
  {
   "cell_type": "code",
   "execution_count": 95,
   "metadata": {},
   "outputs": [],
   "source": [
    "mdf_18to24, moffer_completions_18to24, mtotal_received_18to24, mcomplete_pct_18to24 = demographic_completion_info(column='age_range', kind='18-24', df=male_df, df_clean=male_df_clean)\n",
    "mdf_25to34, moffer_completions_25to34, mtotal_received_25to34, mcomplete_pct_25to34 = demographic_completion_info(column='age_range', kind='25-34', df=male_df, df_clean=male_df_clean)\n",
    "mdf_35to44, moffer_completions_35to44, mtotal_received_35to44, mcomplete_pct_35to44 = demographic_completion_info(column='age_range', kind='35-44', df=male_df, df_clean=male_df_clean)\n",
    "mdf_45to54, moffer_completions_45to54, mtotal_received_45to54, mcomplete_pct_45to54 = demographic_completion_info(column='age_range', kind='45-54', df=male_df, df_clean=male_df_clean)\n",
    "mdf_55to64, moffer_completions_55to64, mtotal_received_55to64, mcomplete_pct_55to64 = demographic_completion_info(column='age_range', kind='55-64', df=male_df, df_clean=male_df_clean)\n",
    "mdf_65to74, moffer_completions_65to74, mtotal_received_65to74, mcomplete_pct_65to74 = demographic_completion_info(column='age_range', kind='65-74', df=male_df, df_clean=male_df_clean)\n",
    "mdf_75plus, moffer_completions_75plus, mtotal_received_75plus, mcomplete_pct_75plus = demographic_completion_info(column='age_range', kind='75+', df=male_df, df_clean=male_df_clean)\n"
   ]
  },
  {
   "cell_type": "code",
   "execution_count": 127,
   "metadata": {},
   "outputs": [
    {
     "data": {
      "image/png": "[encoded data removed]",
      "text/plain": [
       "<matplotlib.figure.Figure at 0x7f3ab80cb588>"
      ]
     },
     "metadata": {
      "needs_background": "light"
     },
     "output_type": "display_data"
    }
   ],
   "source": [
    "# plot the completion percentage across age ranges\n",
    "plt.figure(figsize=(8,6));\n",
    "plt.plot(mcomplete_pct_18to24, label='18-24');\n",
    "plt.plot(mcomplete_pct_25to34, label='25-34');\n",
    "plt.plot(mcomplete_pct_35to44, label='35-44');\n",
    "plt.plot(mcomplete_pct_45to54, label='45-54');\n",
    "plt.plot(mcomplete_pct_55to64, label='55-64');\n",
    "plt.plot(mcomplete_pct_65to74, label='65-74');\n",
    "plt.plot(mcomplete_pct_75plus, label='75+');\n",
    "plt.axhline(y=0.5, color='gray', linestyle='--');\n",
    "plt.axhline(y=0.7, color='green', linestyle='dotted');\n",
    "plt.legend();\n",
    "plt.ylabel('Offer completion percentage');\n",
    "plt.title('Male user offer completion rates by age');"
   ]
  },
  {
   "cell_type": "markdown",
   "metadata": {},
   "source": [
    "As we can see in the above chart none of the age ranges have over a 50% completion for any offer except for offers 5-8. Depending on the information we know about the users we should send offers to all age ranges except for offer 7 if they are in the high income range (80k-120k)."
   ]
  },
  {
   "cell_type": "markdown",
   "metadata": {},
   "source": [
    "# Conclusion\n",
    "\n",
    "All of the offers that were not promoted through social performed much worse than offers that were promoted through the social channel. Starbucks should consider promoting every offer through social to see if it improves the completion rates for offers 2-4 and offer 9 which had the lowest completion rates throughout each demographic. \n",
    "\n",
    "Information offer 7 had the highest offer completion % out of any offer within the age ranges of 25-34 as well as the 30k-49k income range. But I would recommend not sending offer 7 to the high income range 80-120k as they have low offer completion rates\n",
    "\n",
    "I would recommend continuing to send bogo offers 0, 1, 8 to users in the highest income range of 80k-120 as the completion rates are very high in the 65-70% range. \n",
    "\n",
    "Discount offers 5 and 6 are the strongest offers across all demographics regardless of gender, age or income. My recommendation would be to continue to send these offers to every demographic. "
   ]
  },
  {
   "cell_type": "code",
   "execution_count": null,
   "metadata": {},
   "outputs": [],
   "source": []
  }
 ],
 "metadata": {
  "kernelspec": {
   "display_name": "Python 3",
   "language": "python",
   "name": "python3"
  },
  "language_info": {
   "codemirror_mode": {
    "name": "ipython",
    "version": 3
   },
   "file_extension": ".py",
   "mimetype": "text/x-python",
   "name": "python",
   "nbconvert_exporter": "python",
   "pygments_lexer": "ipython3",
   "version": "3.6.3"
  }
 },
 "nbformat": 4,
 "nbformat_minor": 2
}
